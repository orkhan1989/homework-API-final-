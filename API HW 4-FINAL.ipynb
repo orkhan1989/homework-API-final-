{
 "cells": [
  {
   "cell_type": "code",
   "execution_count": 1,
   "id": "8fca88e0-b16b-4449-b377-6a3c477eca25",
   "metadata": {},
   "outputs": [],
   "source": [
    "## Financial Planner"
   ]
  },
  {
   "cell_type": "code",
   "execution_count": 76,
   "id": "04501139-3399-4863-8a63-cc66961114b0",
   "metadata": {},
   "outputs": [],
   "source": [
    "# Initial imports\n",
    "import datetime as dt\n",
    "import pytz\n",
    "import numpy as np\n",
    "import pandas as pd\n",
    "import os\n",
    "import requests\n",
    "#from dotenv import load_dotenv\n",
    "from MCForecastTools import MCSimulation\n",
    "import alpaca_trade_api as tradeapi\n",
    "%matplotlib inline\n",
    "\n",
    "# Create the Alpaca API object\n",
    "alpaca_api_key = 'PKQZAH0P29PQ2NC7M56L'\n",
    "alpaca_secret_key = 'a3ObINwHQKH0JfbfeNdXPGJGSmfpNwyYHU7rrFJp'\n",
    "alpaca_crypto = tradeapi.REST(\n",
    "    alpaca_api_key,\n",
    "    alpaca_secret_key,\n",
    "    base_url=\"https://data.alpaca.markets/v1beta1/crypto\",\n",
    "    api_version=\"v2\")\n",
    "alpaca = tradeapi.REST(\n",
    "    alpaca_api_key,\n",
    "    alpaca_secret_key,\n",
    "    api_version=\"v2\")"
   ]
  },
  {
   "cell_type": "code",
   "execution_count": 77,
   "id": "7b26f919-4ca8-4d06-ae18-c32239ea2be2",
   "metadata": {},
   "outputs": [],
   "source": [
    "# Create two variables called my_btc and my_eth\n",
    "my_btc = 1.2\n",
    "my_eth = 5.3"
   ]
  },
  {
   "cell_type": "code",
   "execution_count": 78,
   "id": "c7b3bee8-2941-49ec-9574-71986b3f046f",
   "metadata": {},
   "outputs": [],
   "source": [
    "# Crypto API URLs\n",
    "btc_url = \"https://api.alternative.me/v2/ticker/Bitcoin/?convert=CAD\"\n",
    "eth_url = \"https://api.alternative.me/v2/ticker/Ethereum/?convert=CAD\""
   ]
  },
  {
   "cell_type": "code",
   "execution_count": 79,
   "id": "80109d83-6c3d-41d6-8487-b0d44612022c",
   "metadata": {},
   "outputs": [],
   "source": [
    "import requests"
   ]
  },
  {
   "cell_type": "markdown",
   "id": "fefcd415-431c-43e0-8083-c0b511f5d430",
   "metadata": {},
   "source": [
    "## PARSE API JSON RESPONSE AND SELECT ONLY CRYPTO PRICES FOR BITCOIN"
   ]
  },
  {
   "cell_type": "code",
   "execution_count": null,
   "id": "72df265e-6ff4-4cdf-8cbe-34c6b93bf5cc",
   "metadata": {},
   "outputs": [],
   "source": []
  },
  {
   "cell_type": "code",
   "execution_count": 32,
   "id": "041a166c-6ba0-488e-960e-83d91916c0fb",
   "metadata": {
    "tags": []
   },
   "outputs": [
    {
     "data": {
      "text/plain": [
       "{'data': {'1': {'id': 1,\n",
       "   'name': 'Bitcoin',\n",
       "   'symbol': 'BTC',\n",
       "   'website_slug': 'bitcoin',\n",
       "   'rank': 1,\n",
       "   'circulating_supply': 18973806,\n",
       "   'total_supply': 18973806,\n",
       "   'max_supply': 21000000,\n",
       "   'quotes': {'USD': {'price': 41532.0,\n",
       "     'volume_24h': 23856794034,\n",
       "     'market_cap': 786230682320,\n",
       "     'percentage_change_1h': -0.632218971251002,\n",
       "     'percentage_change_24h': -5.28480595609698,\n",
       "     'percentage_change_7d': 8.26059044358649,\n",
       "     'percent_change_1h': -0.632218971251002,\n",
       "     'percent_change_24h': -5.28480595609698,\n",
       "     'percent_change_7d': 8.26059044358649},\n",
       "    'CAD': {'price': 52675.0356,\n",
       "     'volume_24h': 30257571873.3222,\n",
       "     'market_cap': 997176374386.457,\n",
       "     'percent_change_1h': -0.632218971251002,\n",
       "     'percent_change_24h': -5.28480595609698,\n",
       "     'percent_change_7d': 8.26059044358649}},\n",
       "   'last_updated': 1646359167}},\n",
       " 'metadata': {'timestamp': 1646359167,\n",
       "  'num_cryptocurrencies': 3105,\n",
       "  'error': None}}"
      ]
     },
     "execution_count": 32,
     "metadata": {},
     "output_type": "execute_result"
    }
   ],
   "source": [
    "btc_url = \"https://api.alternative.me/v2/ticker/Bitcoin/?convert=CAD\"\n",
    "btc_response = requests.get(btc_url).json()\n",
    "btc_response"
   ]
  },
  {
   "cell_type": "code",
   "execution_count": 33,
   "id": "9b3a7573-6074-4b6c-a1e3-540a7972b187",
   "metadata": {
    "tags": []
   },
   "outputs": [
    {
     "data": {
      "text/plain": [
       "{'1': {'id': 1,\n",
       "  'name': 'Bitcoin',\n",
       "  'symbol': 'BTC',\n",
       "  'website_slug': 'bitcoin',\n",
       "  'rank': 1,\n",
       "  'circulating_supply': 18973806,\n",
       "  'total_supply': 18973806,\n",
       "  'max_supply': 21000000,\n",
       "  'quotes': {'USD': {'price': 41532.0,\n",
       "    'volume_24h': 23856794034,\n",
       "    'market_cap': 786230682320,\n",
       "    'percentage_change_1h': -0.632218971251002,\n",
       "    'percentage_change_24h': -5.28480595609698,\n",
       "    'percentage_change_7d': 8.26059044358649,\n",
       "    'percent_change_1h': -0.632218971251002,\n",
       "    'percent_change_24h': -5.28480595609698,\n",
       "    'percent_change_7d': 8.26059044358649},\n",
       "   'CAD': {'price': 52675.0356,\n",
       "    'volume_24h': 30257571873.3222,\n",
       "    'market_cap': 997176374386.457,\n",
       "    'percent_change_1h': -0.632218971251002,\n",
       "    'percent_change_24h': -5.28480595609698,\n",
       "    'percent_change_7d': 8.26059044358649}},\n",
       "  'last_updated': 1646359167}}"
      ]
     },
     "execution_count": 33,
     "metadata": {},
     "output_type": "execute_result"
    }
   ],
   "source": [
    "btc_response['data']"
   ]
  },
  {
   "cell_type": "code",
   "execution_count": 34,
   "id": "a7c6a97c-d312-4aa1-8646-675c4ed4c5d3",
   "metadata": {
    "tags": []
   },
   "outputs": [
    {
     "data": {
      "text/plain": [
       "{'id': 1,\n",
       " 'name': 'Bitcoin',\n",
       " 'symbol': 'BTC',\n",
       " 'website_slug': 'bitcoin',\n",
       " 'rank': 1,\n",
       " 'circulating_supply': 18973806,\n",
       " 'total_supply': 18973806,\n",
       " 'max_supply': 21000000,\n",
       " 'quotes': {'USD': {'price': 41532.0,\n",
       "   'volume_24h': 23856794034,\n",
       "   'market_cap': 786230682320,\n",
       "   'percentage_change_1h': -0.632218971251002,\n",
       "   'percentage_change_24h': -5.28480595609698,\n",
       "   'percentage_change_7d': 8.26059044358649,\n",
       "   'percent_change_1h': -0.632218971251002,\n",
       "   'percent_change_24h': -5.28480595609698,\n",
       "   'percent_change_7d': 8.26059044358649},\n",
       "  'CAD': {'price': 52675.0356,\n",
       "   'volume_24h': 30257571873.3222,\n",
       "   'market_cap': 997176374386.457,\n",
       "   'percent_change_1h': -0.632218971251002,\n",
       "   'percent_change_24h': -5.28480595609698,\n",
       "   'percent_change_7d': 8.26059044358649}},\n",
       " 'last_updated': 1646359167}"
      ]
     },
     "execution_count": 34,
     "metadata": {},
     "output_type": "execute_result"
    }
   ],
   "source": [
    "btc_response['data']['1']"
   ]
  },
  {
   "cell_type": "code",
   "execution_count": 35,
   "id": "c6ea5172-3bbe-45e9-9d30-2c0a35d2fa1f",
   "metadata": {
    "tags": []
   },
   "outputs": [
    {
     "data": {
      "text/plain": [
       "{'USD': {'price': 41532.0,\n",
       "  'volume_24h': 23856794034,\n",
       "  'market_cap': 786230682320,\n",
       "  'percentage_change_1h': -0.632218971251002,\n",
       "  'percentage_change_24h': -5.28480595609698,\n",
       "  'percentage_change_7d': 8.26059044358649,\n",
       "  'percent_change_1h': -0.632218971251002,\n",
       "  'percent_change_24h': -5.28480595609698,\n",
       "  'percent_change_7d': 8.26059044358649},\n",
       " 'CAD': {'price': 52675.0356,\n",
       "  'volume_24h': 30257571873.3222,\n",
       "  'market_cap': 997176374386.457,\n",
       "  'percent_change_1h': -0.632218971251002,\n",
       "  'percent_change_24h': -5.28480595609698,\n",
       "  'percent_change_7d': 8.26059044358649}}"
      ]
     },
     "execution_count": 35,
     "metadata": {},
     "output_type": "execute_result"
    }
   ],
   "source": [
    "btc_response['data']['1']['quotes']"
   ]
  },
  {
   "cell_type": "code",
   "execution_count": 36,
   "id": "57c9e03e-34b1-4ac1-a0e5-32d778d2343f",
   "metadata": {},
   "outputs": [
    {
     "data": {
      "text/plain": [
       "{'price': 52675.0356,\n",
       " 'volume_24h': 30257571873.3222,\n",
       " 'market_cap': 997176374386.457,\n",
       " 'percent_change_1h': -0.632218971251002,\n",
       " 'percent_change_24h': -5.28480595609698,\n",
       " 'percent_change_7d': 8.26059044358649}"
      ]
     },
     "execution_count": 36,
     "metadata": {},
     "output_type": "execute_result"
    }
   ],
   "source": [
    "btc_response['data']['1']['quotes']['CAD']"
   ]
  },
  {
   "cell_type": "code",
   "execution_count": 37,
   "id": "e37efb0e-9ef5-45a1-9d3a-73cef246decc",
   "metadata": {},
   "outputs": [
    {
     "data": {
      "text/plain": [
       "52675.0356"
      ]
     },
     "execution_count": 37,
     "metadata": {},
     "output_type": "execute_result"
    }
   ],
   "source": [
    "btc_response['data']['1']['quotes']['CAD']['price']"
   ]
  },
  {
   "cell_type": "code",
   "execution_count": 38,
   "id": "f87f675c-2cce-47e9-a704-a4aab09d6e5e",
   "metadata": {},
   "outputs": [
    {
     "data": {
      "text/plain": [
       "52675.0356"
      ]
     },
     "execution_count": 38,
     "metadata": {},
     "output_type": "execute_result"
    }
   ],
   "source": [
    "# Current BITCOIN price \n",
    "btc_price = btc_response['data']['1']['quotes']['CAD']['price']\n",
    "btc_price"
   ]
  },
  {
   "cell_type": "markdown",
   "id": "7d58731d-d234-4fd5-b956-c6017ef19494",
   "metadata": {},
   "source": [
    "# PARSE API JSON RESPONSE AND SELECT ONLY CRYPTO PRICES FOR ETHERIUM"
   ]
  },
  {
   "cell_type": "code",
   "execution_count": 39,
   "id": "cfab310d-66e0-432a-ba75-a7e538fe45be",
   "metadata": {
    "tags": []
   },
   "outputs": [
    {
     "data": {
      "text/plain": [
       "{'1027': {'id': 1027,\n",
       "  'name': 'Ethereum',\n",
       "  'symbol': 'ETH',\n",
       "  'website_slug': 'ethereum',\n",
       "  'rank': 2,\n",
       "  'circulating_supply': 119814586,\n",
       "  'total_supply': 119814586,\n",
       "  'max_supply': 0,\n",
       "  'quotes': {'USD': {'price': 2732.42,\n",
       "    'volume_24h': 15296081473,\n",
       "    'market_cap': 326022741147,\n",
       "    'percentage_change_1h': -0.960150533538154,\n",
       "    'percentage_change_24h': -7.33359511757617,\n",
       "    'percentage_change_7d': 5.0958960496212,\n",
       "    'percent_change_1h': -0.960150533538154,\n",
       "    'percent_change_24h': -7.33359511757617,\n",
       "    'percent_change_7d': 5.0958960496212},\n",
       "   'CAD': {'price': 3465.528286,\n",
       "    'volume_24h': 19400020132.2059,\n",
       "    'market_cap': 413494642596.74,\n",
       "    'percent_change_1h': -0.960150533538154,\n",
       "    'percent_change_24h': -7.33359511757617,\n",
       "    'percent_change_7d': 5.0958960496212}},\n",
       "  'last_updated': 1646359148}}"
      ]
     },
     "execution_count": 39,
     "metadata": {},
     "output_type": "execute_result"
    }
   ],
   "source": [
    "eth_url = \"https://api.alternative.me/v2/ticker/Ethereum/?convert=CAD\"\n",
    "eth_response = requests.get(eth_url).json()\n",
    "eth_response['data']"
   ]
  },
  {
   "cell_type": "code",
   "execution_count": 40,
   "id": "6633b4af-efa2-422f-b577-b76e792769b2",
   "metadata": {
    "tags": []
   },
   "outputs": [
    {
     "data": {
      "text/plain": [
       "{'1027': {'id': 1027,\n",
       "  'name': 'Ethereum',\n",
       "  'symbol': 'ETH',\n",
       "  'website_slug': 'ethereum',\n",
       "  'rank': 2,\n",
       "  'circulating_supply': 119814586,\n",
       "  'total_supply': 119814586,\n",
       "  'max_supply': 0,\n",
       "  'quotes': {'USD': {'price': 2732.42,\n",
       "    'volume_24h': 15296081473,\n",
       "    'market_cap': 326022741147,\n",
       "    'percentage_change_1h': -0.960150533538154,\n",
       "    'percentage_change_24h': -7.33359511757617,\n",
       "    'percentage_change_7d': 5.0958960496212,\n",
       "    'percent_change_1h': -0.960150533538154,\n",
       "    'percent_change_24h': -7.33359511757617,\n",
       "    'percent_change_7d': 5.0958960496212},\n",
       "   'CAD': {'price': 3465.528286,\n",
       "    'volume_24h': 19400020132.2059,\n",
       "    'market_cap': 413494642596.74,\n",
       "    'percent_change_1h': -0.960150533538154,\n",
       "    'percent_change_24h': -7.33359511757617,\n",
       "    'percent_change_7d': 5.0958960496212}},\n",
       "  'last_updated': 1646359148}}"
      ]
     },
     "execution_count": 40,
     "metadata": {},
     "output_type": "execute_result"
    }
   ],
   "source": [
    "eth_response['data']"
   ]
  },
  {
   "cell_type": "code",
   "execution_count": 41,
   "id": "32389dac-c157-49e4-9cfc-21aace9b36d3",
   "metadata": {
    "tags": []
   },
   "outputs": [
    {
     "data": {
      "text/plain": [
       "{'id': 1027,\n",
       " 'name': 'Ethereum',\n",
       " 'symbol': 'ETH',\n",
       " 'website_slug': 'ethereum',\n",
       " 'rank': 2,\n",
       " 'circulating_supply': 119814586,\n",
       " 'total_supply': 119814586,\n",
       " 'max_supply': 0,\n",
       " 'quotes': {'USD': {'price': 2732.42,\n",
       "   'volume_24h': 15296081473,\n",
       "   'market_cap': 326022741147,\n",
       "   'percentage_change_1h': -0.960150533538154,\n",
       "   'percentage_change_24h': -7.33359511757617,\n",
       "   'percentage_change_7d': 5.0958960496212,\n",
       "   'percent_change_1h': -0.960150533538154,\n",
       "   'percent_change_24h': -7.33359511757617,\n",
       "   'percent_change_7d': 5.0958960496212},\n",
       "  'CAD': {'price': 3465.528286,\n",
       "   'volume_24h': 19400020132.2059,\n",
       "   'market_cap': 413494642596.74,\n",
       "   'percent_change_1h': -0.960150533538154,\n",
       "   'percent_change_24h': -7.33359511757617,\n",
       "   'percent_change_7d': 5.0958960496212}},\n",
       " 'last_updated': 1646359148}"
      ]
     },
     "execution_count": 41,
     "metadata": {},
     "output_type": "execute_result"
    }
   ],
   "source": [
    "eth_response['data']['1027']"
   ]
  },
  {
   "cell_type": "code",
   "execution_count": 42,
   "id": "41326318-bb8f-45f0-b350-641af36b2fb6",
   "metadata": {
    "tags": []
   },
   "outputs": [
    {
     "data": {
      "text/plain": [
       "{'USD': {'price': 2732.42,\n",
       "  'volume_24h': 15296081473,\n",
       "  'market_cap': 326022741147,\n",
       "  'percentage_change_1h': -0.960150533538154,\n",
       "  'percentage_change_24h': -7.33359511757617,\n",
       "  'percentage_change_7d': 5.0958960496212,\n",
       "  'percent_change_1h': -0.960150533538154,\n",
       "  'percent_change_24h': -7.33359511757617,\n",
       "  'percent_change_7d': 5.0958960496212},\n",
       " 'CAD': {'price': 3465.528286,\n",
       "  'volume_24h': 19400020132.2059,\n",
       "  'market_cap': 413494642596.74,\n",
       "  'percent_change_1h': -0.960150533538154,\n",
       "  'percent_change_24h': -7.33359511757617,\n",
       "  'percent_change_7d': 5.0958960496212}}"
      ]
     },
     "execution_count": 42,
     "metadata": {},
     "output_type": "execute_result"
    }
   ],
   "source": [
    "eth_response['data']['1027']['quotes']"
   ]
  },
  {
   "cell_type": "code",
   "execution_count": 43,
   "id": "0d77cfbb-efa4-4600-9a40-54fa03ac57d1",
   "metadata": {
    "tags": []
   },
   "outputs": [
    {
     "data": {
      "text/plain": [
       "{'price': 3465.528286,\n",
       " 'volume_24h': 19400020132.2059,\n",
       " 'market_cap': 413494642596.74,\n",
       " 'percent_change_1h': -0.960150533538154,\n",
       " 'percent_change_24h': -7.33359511757617,\n",
       " 'percent_change_7d': 5.0958960496212}"
      ]
     },
     "execution_count": 43,
     "metadata": {},
     "output_type": "execute_result"
    }
   ],
   "source": [
    "eth_response['data']['1027']['quotes']['CAD']"
   ]
  },
  {
   "cell_type": "code",
   "execution_count": 44,
   "id": "19ad5b25-639f-4c53-931e-afeab167569e",
   "metadata": {},
   "outputs": [
    {
     "name": "stdout",
     "output_type": "stream",
     "text": [
      "3465.528286\n"
     ]
    }
   ],
   "source": [
    "eth_price = eth_response['data']['1027']['quotes']['CAD']['price']\n",
    "print(eth_price)"
   ]
  },
  {
   "cell_type": "code",
   "execution_count": 45,
   "id": "a748b263-8542-410a-9e0b-506399ea418a",
   "metadata": {},
   "outputs": [
    {
     "data": {
      "text/plain": [
       "3465.528286"
      ]
     },
     "execution_count": 45,
     "metadata": {},
     "output_type": "execute_result"
    }
   ],
   "source": [
    "# Current etherium price \n",
    "eth_price = eth_response['data']['1027']['quotes']['CAD']['price']\n",
    "eth_price"
   ]
  },
  {
   "cell_type": "code",
   "execution_count": 46,
   "id": "1308c756-f101-4d47-bb6c-7779fadcb2b5",
   "metadata": {},
   "outputs": [
    {
     "data": {
      "text/html": [
       "<div>\n",
       "<style scoped>\n",
       "    .dataframe tbody tr th:only-of-type {\n",
       "        vertical-align: middle;\n",
       "    }\n",
       "\n",
       "    .dataframe tbody tr th {\n",
       "        vertical-align: top;\n",
       "    }\n",
       "\n",
       "    .dataframe thead th {\n",
       "        text-align: right;\n",
       "    }\n",
       "</style>\n",
       "<table border=\"1\" class=\"dataframe\">\n",
       "  <thead>\n",
       "    <tr style=\"text-align: right;\">\n",
       "      <th></th>\n",
       "      <th>crypto</th>\n",
       "    </tr>\n",
       "  </thead>\n",
       "  <tbody>\n",
       "    <tr>\n",
       "      <th>BTC</th>\n",
       "      <td>1.2</td>\n",
       "    </tr>\n",
       "    <tr>\n",
       "      <th>ETH</th>\n",
       "      <td>5.3</td>\n",
       "    </tr>\n",
       "  </tbody>\n",
       "</table>\n",
       "</div>"
      ],
      "text/plain": [
       "     crypto\n",
       "BTC     1.2\n",
       "ETH     5.3"
      ]
     },
     "execution_count": 46,
     "metadata": {},
     "output_type": "execute_result"
    }
   ],
   "source": [
    "# create dataframe with the current amount of crypto assets\n",
    "# set current amount of crypto assets\n",
    "crypto_data = {\n",
    "    \"crypto\": [1.2, 5.3]\n",
    "}\n",
    "\n",
    "# Set the tickers \n",
    "tickers = [\"BTC\", \"ETH\"]\n",
    "\n",
    "# create the crypto dataframe\n",
    "df_crypto = pd.DataFrame(crypto_data, index=tickers)\n",
    "\n",
    "#Display crypto data \n",
    "df_crypto"
   ]
  },
  {
   "cell_type": "code",
   "execution_count": 47,
   "id": "474a9e86-9edc-48f5-966d-6854a103db82",
   "metadata": {},
   "outputs": [
    {
     "name": "stdout",
     "output_type": "stream",
     "text": [
      "Alpaca Key type: <class 'str'>\n",
      "Alpaca Secret Key type: <class 'str'>\n"
     ]
    }
   ],
   "source": [
    "# Verify that Alpaca key and secret were correctly loaded\n",
    "print(f\"Alpaca Key type: {type(alpaca_api_key)}\")\n",
    "print(f\"Alpaca Secret Key type: {type(alpaca_secret_key)}\")"
   ]
  },
  {
   "cell_type": "code",
   "execution_count": 48,
   "id": "dc5342fa-ca65-4bc4-b877-82ee537abd26",
   "metadata": {},
   "outputs": [],
   "source": [
    "# Format current date as ISO format\n",
    "today = pd.Timestamp(\"2022-01-19\", tz=\"US/Central\").isoformat()"
   ]
  },
  {
   "cell_type": "code",
   "execution_count": 49,
   "id": "93d4ae2f-e671-4a83-a057-e94ede3af4f0",
   "metadata": {},
   "outputs": [],
   "source": [
    "# Set timeframe to '1D' for Alpaca API\n",
    "timeframe = \"1D\""
   ]
  },
  {
   "cell_type": "code",
   "execution_count": 50,
   "id": "b3a467d8-1a06-448d-8318-80b92b80b35f",
   "metadata": {},
   "outputs": [
    {
     "data": {
      "text/plain": [
       "['BTC', 'ETH']"
      ]
     },
     "execution_count": 50,
     "metadata": {},
     "output_type": "execute_result"
    }
   ],
   "source": [
    "tickers"
   ]
  },
  {
   "cell_type": "code",
   "execution_count": 51,
   "id": "3dd738f4-bbb7-4f8a-8dba-9dc9c27b3911",
   "metadata": {},
   "outputs": [
    {
     "name": "stdout",
     "output_type": "stream",
     "text": [
      "PKQZAH0P29PQ2NC7M56L\n"
     ]
    }
   ],
   "source": [
    "print(alpaca_api_key)"
   ]
  },
  {
   "cell_type": "code",
   "execution_count": 26,
   "id": "8510d68e-68bb-415b-9f39-f45d691f1750",
   "metadata": {
    "tags": []
   },
   "outputs": [
    {
     "data": {
      "text/html": [
       "<div>\n",
       "<style scoped>\n",
       "    .dataframe tbody tr th:only-of-type {\n",
       "        vertical-align: middle;\n",
       "    }\n",
       "\n",
       "    .dataframe tbody tr th {\n",
       "        vertical-align: top;\n",
       "    }\n",
       "\n",
       "    .dataframe thead tr th {\n",
       "        text-align: left;\n",
       "    }\n",
       "\n",
       "    .dataframe thead tr:last-of-type th {\n",
       "        text-align: right;\n",
       "    }\n",
       "</style>\n",
       "<table border=\"1\" class=\"dataframe\">\n",
       "  <thead>\n",
       "    <tr>\n",
       "      <th></th>\n",
       "      <th colspan=\"5\" halign=\"left\">AGG</th>\n",
       "      <th colspan=\"5\" halign=\"left\">SPY</th>\n",
       "    </tr>\n",
       "    <tr>\n",
       "      <th></th>\n",
       "      <th>open</th>\n",
       "      <th>high</th>\n",
       "      <th>low</th>\n",
       "      <th>close</th>\n",
       "      <th>volume</th>\n",
       "      <th>open</th>\n",
       "      <th>high</th>\n",
       "      <th>low</th>\n",
       "      <th>close</th>\n",
       "      <th>volume</th>\n",
       "    </tr>\n",
       "    <tr>\n",
       "      <th>time</th>\n",
       "      <th></th>\n",
       "      <th></th>\n",
       "      <th></th>\n",
       "      <th></th>\n",
       "      <th></th>\n",
       "      <th></th>\n",
       "      <th></th>\n",
       "      <th></th>\n",
       "      <th></th>\n",
       "      <th></th>\n",
       "    </tr>\n",
       "  </thead>\n",
       "  <tbody>\n",
       "    <tr>\n",
       "      <th>2022-01-19 00:00:00-05:00</th>\n",
       "      <td>111.7</td>\n",
       "      <td>111.89</td>\n",
       "      <td>111.65</td>\n",
       "      <td>111.71</td>\n",
       "      <td>7641972</td>\n",
       "      <td>458.17</td>\n",
       "      <td>459.6124</td>\n",
       "      <td>451.46</td>\n",
       "      <td>451.79</td>\n",
       "      <td>95311817</td>\n",
       "    </tr>\n",
       "  </tbody>\n",
       "</table>\n",
       "</div>"
      ],
      "text/plain": [
       "                             AGG                                      SPY  \\\n",
       "                            open    high     low   close   volume    open   \n",
       "time                                                                        \n",
       "2022-01-19 00:00:00-05:00  111.7  111.89  111.65  111.71  7641972  458.17   \n",
       "\n",
       "                                                               \n",
       "                               high     low   close    volume  \n",
       "time                                                           \n",
       "2022-01-19 00:00:00-05:00  459.6124  451.46  451.79  95311817  "
      ]
     },
     "execution_count": 26,
     "metadata": {},
     "output_type": "execute_result"
    }
   ],
   "source": [
    "# # Get current price data for BTC  and ETH\n",
    "df_portfolio = alpaca.get_barset(\n",
    "    [\"SPY\",\"AGG\"],\n",
    "    timeframe,\n",
    "    start = today,\n",
    "    end = today\n",
    ").df\n",
    "# Display sample data\n",
    "df_portfolio"
   ]
  },
  {
   "cell_type": "code",
   "execution_count": 52,
   "id": "eb067eee-b6d5-465c-8559-b3bfa8eecc67",
   "metadata": {},
   "outputs": [
    {
     "data": {
      "text/plain": [
       "52675.0356"
      ]
     },
     "execution_count": 52,
     "metadata": {},
     "output_type": "execute_result"
    }
   ],
   "source": [
    "#  Fetch current BTC price\n",
    "btc_price"
   ]
  },
  {
   "cell_type": "code",
   "execution_count": 53,
   "id": "7f14ce17-6f7d-4773-9db8-cb11b8cf8624",
   "metadata": {},
   "outputs": [
    {
     "data": {
      "text/plain": [
       "3465.528286"
      ]
     },
     "execution_count": 53,
     "metadata": {},
     "output_type": "execute_result"
    }
   ],
   "source": [
    "# Fetch current ETH price\n",
    "eth_price"
   ]
  },
  {
   "cell_type": "code",
   "execution_count": 54,
   "id": "10c22b9c-528d-4ccc-873e-afd5ea30f14e",
   "metadata": {},
   "outputs": [
    {
     "name": "stdout",
     "output_type": "stream",
     "text": [
      "The current value of your 1.2 BTC is $63210.04\n",
      "The current value of your 5.3 ETH is $18367.30\n"
     ]
    }
   ],
   "source": [
    "# Compute current value of my crpto\n",
    "btc_value = btc_response[\"data\"][\"1\"][\"quotes\"][\"USD\"][\"price\"]\n",
    "my_btc_value = my_btc * btc_price\n",
    "eth_value = eth_response[\"data\"][\"1027\"][\"quotes\"][\"USD\"][\"price\"]\n",
    "my_eth_value = my_eth * eth_price\n",
    "\n",
    "# Print current crypto wallet balance\n",
    "print(f\"The current value of your {my_btc} BTC is ${my_btc_value:0.2f}\")\n",
    "print(f\"The current value of your {my_eth} ETH is ${my_eth_value:0.2f}\")"
   ]
  },
  {
   "cell_type": "markdown",
   "id": "3b3da149-3612-40b8-9c86-eb48e0266825",
   "metadata": {},
   "source": [
    "## Collect Investments Data Using Alpaca: `SPY` (stocks) and `AGG` (bonds)"
   ]
  },
  {
   "cell_type": "code",
   "execution_count": 55,
   "id": "6b17c247-c940-49bc-a095-0ea39826d5d1",
   "metadata": {},
   "outputs": [],
   "source": [
    "my_agg = 200\n",
    "my_spy = 50"
   ]
  },
  {
   "cell_type": "code",
   "execution_count": 56,
   "id": "61272f25-9b95-4557-b502-061093674cf8",
   "metadata": {},
   "outputs": [],
   "source": [
    "# Current amount of shares\n",
    "shares_data = {\n",
    "    \"shares\": [200, 50]\n",
    "}"
   ]
  },
  {
   "cell_type": "code",
   "execution_count": 57,
   "id": "3ca0d58b-1552-499e-bde4-2dfed5f1415f",
   "metadata": {},
   "outputs": [],
   "source": [
    "# Set the tickers\n",
    "tickers = [\"AGG\", \"SPY\"]"
   ]
  },
  {
   "cell_type": "code",
   "execution_count": 58,
   "id": "1f472230-0da4-47fd-b749-1cfb07c998ca",
   "metadata": {},
   "outputs": [
    {
     "data": {
      "text/html": [
       "<div>\n",
       "<style scoped>\n",
       "    .dataframe tbody tr th:only-of-type {\n",
       "        vertical-align: middle;\n",
       "    }\n",
       "\n",
       "    .dataframe tbody tr th {\n",
       "        vertical-align: top;\n",
       "    }\n",
       "\n",
       "    .dataframe thead th {\n",
       "        text-align: right;\n",
       "    }\n",
       "</style>\n",
       "<table border=\"1\" class=\"dataframe\">\n",
       "  <thead>\n",
       "    <tr style=\"text-align: right;\">\n",
       "      <th></th>\n",
       "      <th>shares</th>\n",
       "    </tr>\n",
       "  </thead>\n",
       "  <tbody>\n",
       "    <tr>\n",
       "      <th>AGG</th>\n",
       "      <td>200</td>\n",
       "    </tr>\n",
       "    <tr>\n",
       "      <th>SPY</th>\n",
       "      <td>50</td>\n",
       "    </tr>\n",
       "  </tbody>\n",
       "</table>\n",
       "</div>"
      ],
      "text/plain": [
       "     shares\n",
       "AGG     200\n",
       "SPY      50"
      ]
     },
     "execution_count": 58,
     "metadata": {},
     "output_type": "execute_result"
    }
   ],
   "source": [
    "# create the shares  dataframe \n",
    "df_shares = pd.DataFrame(shares_data, index=tickers)\n",
    "\n",
    "#display shares data \n",
    "df_shares"
   ]
  },
  {
   "cell_type": "code",
   "execution_count": null,
   "id": "8ac8211b-8de7-41ba-b8e1-31a1112147cf",
   "metadata": {},
   "outputs": [],
   "source": [
    "# Set Alpaca API key and secret\n",
    "alpaca_api_key = ALPACA_API_KEY\n",
    "alpaca_secret_key = ALPACA_SECRET_KEY"
   ]
  },
  {
   "cell_type": "code",
   "execution_count": 60,
   "id": "459c01d1-969f-4ed8-b0a4-692a0d2a44a8",
   "metadata": {},
   "outputs": [
    {
     "data": {
      "text/plain": [
       "str"
      ]
     },
     "execution_count": 60,
     "metadata": {},
     "output_type": "execute_result"
    }
   ],
   "source": [
    "type(alpaca_secret_key)"
   ]
  },
  {
   "cell_type": "code",
   "execution_count": 61,
   "id": "737413a1-a93d-4a39-8644-15b4618d2367",
   "metadata": {},
   "outputs": [
    {
     "name": "stdout",
     "output_type": "stream",
     "text": [
      "Alpaca Key type: <class 'str'>\n",
      "Alpaca Secret Key type: <class 'str'>\n"
     ]
    }
   ],
   "source": [
    "# Verify that Alpaca key and secret were correctly loaded\n",
    "print(f\"Alpaca Key type: {type(alpaca_api_key)}\")\n",
    "print(f\"Alpaca Secret Key type: {type(alpaca_secret_key)}\")"
   ]
  },
  {
   "cell_type": "code",
   "execution_count": null,
   "id": "ce270ea1-51a9-47ee-a60b-09fbd8122fac",
   "metadata": {},
   "outputs": [],
   "source": [
    "# Format current date as ISO format\n",
    "today = pd.Timestamp(\"2021-12-06\", tz=\"America/New_York\").isoformat()"
   ]
  },
  {
   "cell_type": "code",
   "execution_count": null,
   "id": "b2d6befa-0376-4ba6-b3b2-6dd508ffffba",
   "metadata": {},
   "outputs": [],
   "source": [
    "# Set timeframe to '1D' for Alpaca API\n",
    "timeframe = \"1D\""
   ]
  },
  {
   "cell_type": "code",
   "execution_count": 62,
   "id": "a2d0b9eb-5075-40ab-8189-5fe640f2e828",
   "metadata": {},
   "outputs": [
    {
     "data": {
      "text/html": [
       "<div>\n",
       "<style scoped>\n",
       "    .dataframe tbody tr th:only-of-type {\n",
       "        vertical-align: middle;\n",
       "    }\n",
       "\n",
       "    .dataframe tbody tr th {\n",
       "        vertical-align: top;\n",
       "    }\n",
       "\n",
       "    .dataframe thead tr th {\n",
       "        text-align: left;\n",
       "    }\n",
       "\n",
       "    .dataframe thead tr:last-of-type th {\n",
       "        text-align: right;\n",
       "    }\n",
       "</style>\n",
       "<table border=\"1\" class=\"dataframe\">\n",
       "  <thead>\n",
       "    <tr>\n",
       "      <th></th>\n",
       "      <th colspan=\"5\" halign=\"left\">AGG</th>\n",
       "      <th colspan=\"5\" halign=\"left\">SPY</th>\n",
       "    </tr>\n",
       "    <tr>\n",
       "      <th></th>\n",
       "      <th>open</th>\n",
       "      <th>high</th>\n",
       "      <th>low</th>\n",
       "      <th>close</th>\n",
       "      <th>volume</th>\n",
       "      <th>open</th>\n",
       "      <th>high</th>\n",
       "      <th>low</th>\n",
       "      <th>close</th>\n",
       "      <th>volume</th>\n",
       "    </tr>\n",
       "    <tr>\n",
       "      <th>time</th>\n",
       "      <th></th>\n",
       "      <th></th>\n",
       "      <th></th>\n",
       "      <th></th>\n",
       "      <th></th>\n",
       "      <th></th>\n",
       "      <th></th>\n",
       "      <th></th>\n",
       "      <th></th>\n",
       "      <th></th>\n",
       "    </tr>\n",
       "  </thead>\n",
       "  <tbody>\n",
       "    <tr>\n",
       "      <th>2022-01-19 00:00:00-05:00</th>\n",
       "      <td>111.7</td>\n",
       "      <td>111.89</td>\n",
       "      <td>111.65</td>\n",
       "      <td>111.71</td>\n",
       "      <td>7641972</td>\n",
       "      <td>458.17</td>\n",
       "      <td>459.6124</td>\n",
       "      <td>451.46</td>\n",
       "      <td>451.79</td>\n",
       "      <td>95311817</td>\n",
       "    </tr>\n",
       "  </tbody>\n",
       "</table>\n",
       "</div>"
      ],
      "text/plain": [
       "                             AGG                                      SPY  \\\n",
       "                            open    high     low   close   volume    open   \n",
       "time                                                                        \n",
       "2022-01-19 00:00:00-05:00  111.7  111.89  111.65  111.71  7641972  458.17   \n",
       "\n",
       "                                                               \n",
       "                               high     low   close    volume  \n",
       "time                                                           \n",
       "2022-01-19 00:00:00-05:00  459.6124  451.46  451.79  95311817  "
      ]
     },
     "execution_count": 62,
     "metadata": {},
     "output_type": "execute_result"
    }
   ],
   "source": [
    "# Get current closing prices for SPY and AGG\n",
    "df_portfolio = alpaca.get_barset(\n",
    "    tickers,\n",
    "    timeframe,\n",
    "    start = today,\n",
    "    end = today\n",
    ").df\n",
    "\n",
    "# Preview dataframe\n",
    "df_portfolio"
   ]
  },
  {
   "cell_type": "code",
   "execution_count": 63,
   "id": "90e16d67-c891-4984-a646-8e1c8ce0b7e5",
   "metadata": {},
   "outputs": [
    {
     "name": "stdout",
     "output_type": "stream",
     "text": [
      "Current AGG closing price: $111.71\n",
      "Current SPY closing price: $451.79\n"
     ]
    }
   ],
   "source": [
    "# Pick AGG and SPY close prices\n",
    "agg_close_price = float(df_portfolio[\"AGG\"][\"close\"])\n",
    "spy_close_price = float(df_portfolio[\"SPY\"][\"close\"])\n",
    "\n",
    "# Print AGG and SPY close prices\n",
    "print(f\"Current AGG closing price: ${agg_close_price}\")\n",
    "print(f\"Current SPY closing price: ${spy_close_price}\")"
   ]
  },
  {
   "cell_type": "code",
   "execution_count": 64,
   "id": "e0f13fdd-12ce-4f68-8091-c16ab6769b51",
   "metadata": {},
   "outputs": [],
   "source": [
    "#compute the current value in dollars of stock portfolio\n",
    "my_agg_value = agg_close_price * df_shares.loc[\"AGG\"][\"shares\"]\n",
    "my_spy_value = spy_close_price * df_shares.loc[\"SPY\"][\"shares\"]"
   ]
  },
  {
   "cell_type": "code",
   "execution_count": 65,
   "id": "a613a8f1-d7eb-4dc3-bf8e-5e093ceb2371",
   "metadata": {},
   "outputs": [
    {
     "name": "stdout",
     "output_type": "stream",
     "text": [
      "The current value of your 50 SPY shares is $22589.50\n",
      "The current value of your 200 AGG shares is $22342.00\n"
     ]
    }
   ],
   "source": [
    "# Print current value of share\n",
    "print(f\"The current value of your {my_spy} SPY shares is ${my_spy_value:0.2f}\")\n",
    "print(f\"The current value of your {my_agg} AGG shares is ${my_agg_value:0.2f}\")"
   ]
  },
  {
   "cell_type": "markdown",
   "id": "126ae37a-76f9-4e39-a7dd-60bd9958c56c",
   "metadata": {},
   "source": [
    "## Savings Health Analysis"
   ]
  },
  {
   "cell_type": "code",
   "execution_count": 67,
   "id": "57d2c813-8fd8-4723-a7a0-79e4ac974fdc",
   "metadata": {},
   "outputs": [
    {
     "data": {
      "text/html": [
       "<div>\n",
       "<style scoped>\n",
       "    .dataframe tbody tr th:only-of-type {\n",
       "        vertical-align: middle;\n",
       "    }\n",
       "\n",
       "    .dataframe tbody tr th {\n",
       "        vertical-align: top;\n",
       "    }\n",
       "\n",
       "    .dataframe thead th {\n",
       "        text-align: right;\n",
       "    }\n",
       "</style>\n",
       "<table border=\"1\" class=\"dataframe\">\n",
       "  <thead>\n",
       "    <tr style=\"text-align: right;\">\n",
       "      <th></th>\n",
       "      <th>amount</th>\n",
       "    </tr>\n",
       "  </thead>\n",
       "  <tbody>\n",
       "    <tr>\n",
       "      <th>crypto</th>\n",
       "      <td>81577.342636</td>\n",
       "    </tr>\n",
       "    <tr>\n",
       "      <th>shares</th>\n",
       "      <td>44931.500000</td>\n",
       "    </tr>\n",
       "  </tbody>\n",
       "</table>\n",
       "</div>"
      ],
      "text/plain": [
       "              amount\n",
       "crypto  81577.342636\n",
       "shares  44931.500000"
      ]
     },
     "execution_count": 67,
     "metadata": {},
     "output_type": "execute_result"
    }
   ],
   "source": [
    "# Set monthly household income\n",
    "monthly_income = 12000\n",
    "total_crypto = my_btc_value + my_eth_value\n",
    "total_shares_value = my_agg_value + my_spy_value\n",
    "data = {'amount':[total_crypto, total_shares_value]} \n",
    "# Creates pandas DataFrame. \n",
    "df_savings = pd.DataFrame(data, index =['crypto', 'shares']) \n",
    "# print the data \n",
    "df_savings "
   ]
  },
  {
   "cell_type": "code",
   "execution_count": 68,
   "id": "ea14a461-713f-462b-8a5a-cb7f4d9ec65e",
   "metadata": {},
   "outputs": [
    {
     "data": {
      "text/plain": [
       "<AxesSubplot:title={'center':'Stocks Portfolio Composition'}, ylabel='shares'>"
      ]
     },
     "execution_count": 68,
     "metadata": {},
     "output_type": "execute_result"
    },
    {
     "data": {
      "image/png": "[encoded data removed]",
      "text/plain": [
       "<Figure size 432x288 with 1 Axes>"
      ]
     },
     "metadata": {},
     "output_type": "display_data"
    }
   ],
   "source": [
    "# Plot savings pie chart\n",
    "df_shares.plot.pie(y=\"shares\", title=\"Stocks Portfolio Composition\")"
   ]
  },
  {
   "cell_type": "code",
   "execution_count": 69,
   "id": "d01fa0b9-8d54-4c3a-bc95-7bfdc3a8afd4",
   "metadata": {},
   "outputs": [
    {
     "name": "stdout",
     "output_type": "stream",
     "text": [
      "Congratulations, you have enough money in your emergency fund\n"
     ]
    }
   ],
   "source": [
    "# Set ideal emergency fund\n",
    "emergency_fund = monthly_income * 3\n",
    "# Calculate total amount of savings\n",
    "total_savings = total_crypto + total_shares_value\n",
    "# Validate saving health\n",
    "if emergency_fund < total_savings:\n",
    "    print(\"Congratulations, you have enough money in your emergency fund\")\n",
    "elif total_savings == emergency_fund:\n",
    "    print(\"Congratulations, you have reached your goal\")\n",
    "else:\n",
    "    print(f\"You are {emergency_fund - total_savings} dollars away from reaching the goal\")"
   ]
  },
  {
   "cell_type": "markdown",
   "id": "90b85aef-5950-4e2c-9d2f-6d3d86918f88",
   "metadata": {},
   "source": [
    "## Part 2 - Retirement Planning\n",
    "\n",
    "### Monte Carlo Simulation"
   ]
  },
  {
   "cell_type": "code",
   "execution_count": 70,
   "id": "6ea60670-d673-4ecd-8c8c-275f5747161d",
   "metadata": {},
   "outputs": [],
   "source": [
    "# Set start and end dates of five years back from today.\n",
    "# Sample results may vary from the solution based on the time frame chosen\n",
    "start_date = pd.Timestamp('2015-08-07', tz='America/New_York').isoformat()\n",
    "end_date = pd.Timestamp('2020-08-07', tz='America/New_York').isoformat()\n",
    "\n",
    "# Set timeframe to '1D'\n",
    "timeframe = \"1D\"\n",
    "\n",
    "# Set the ticker information\n",
    "tickers = [\"AGG\",\"SPY\"]"
   ]
  },
  {
   "cell_type": "code",
   "execution_count": null,
   "id": "2b659a19-26c2-47b4-8563-54bd5703f2fe",
   "metadata": {},
   "outputs": [],
   "source": [
    "# Set Alpaca Api Key and Secret \n",
    "alpaca_api_key = ALPACA_API_KEY\n",
    "alpaca_secret_key = ALPACA_SECRET_KEY"
   ]
  },
  {
   "cell_type": "code",
   "execution_count": 72,
   "id": "99a7a282-a2d6-43c6-9dd9-a1d402a07b30",
   "metadata": {},
   "outputs": [
    {
     "data": {
      "text/plain": [
       "str"
      ]
     },
     "execution_count": 72,
     "metadata": {},
     "output_type": "execute_result"
    }
   ],
   "source": [
    "type(alpaca_secret_key)"
   ]
  },
  {
   "cell_type": "code",
   "execution_count": 73,
   "id": "d3f1a6f5-b1f0-4dd4-a397-463d410d0706",
   "metadata": {},
   "outputs": [
    {
     "name": "stdout",
     "output_type": "stream",
     "text": [
      "Alpaca Key type: <class 'str'>\n",
      "Alpaca Secret Key type: <class 'str'>\n"
     ]
    }
   ],
   "source": [
    "# Verify that Alpaca key and secret were correctly loaded\n",
    "print(f\"Alpaca Key type: {type(alpaca_api_key)}\")\n",
    "print(f\"Alpaca Secret Key type: {type(alpaca_secret_key)}\")"
   ]
  },
  {
   "cell_type": "code",
   "execution_count": 82,
   "id": "aa5cae03-8ee5-4a0e-b9b1-c325b607ac8c",
   "metadata": {},
   "outputs": [
    {
     "data": {
      "text/html": [
       "<div>\n",
       "<style scoped>\n",
       "    .dataframe tbody tr th:only-of-type {\n",
       "        vertical-align: middle;\n",
       "    }\n",
       "\n",
       "    .dataframe tbody tr th {\n",
       "        vertical-align: top;\n",
       "    }\n",
       "\n",
       "    .dataframe thead tr th {\n",
       "        text-align: left;\n",
       "    }\n",
       "\n",
       "    .dataframe thead tr:last-of-type th {\n",
       "        text-align: right;\n",
       "    }\n",
       "</style>\n",
       "<table border=\"1\" class=\"dataframe\">\n",
       "  <thead>\n",
       "    <tr>\n",
       "      <th></th>\n",
       "      <th colspan=\"5\" halign=\"left\">AGG</th>\n",
       "      <th colspan=\"5\" halign=\"left\">SPY</th>\n",
       "    </tr>\n",
       "    <tr>\n",
       "      <th></th>\n",
       "      <th>open</th>\n",
       "      <th>high</th>\n",
       "      <th>low</th>\n",
       "      <th>close</th>\n",
       "      <th>volume</th>\n",
       "      <th>open</th>\n",
       "      <th>high</th>\n",
       "      <th>low</th>\n",
       "      <th>close</th>\n",
       "      <th>volume</th>\n",
       "    </tr>\n",
       "    <tr>\n",
       "      <th>time</th>\n",
       "      <th></th>\n",
       "      <th></th>\n",
       "      <th></th>\n",
       "      <th></th>\n",
       "      <th></th>\n",
       "      <th></th>\n",
       "      <th></th>\n",
       "      <th></th>\n",
       "      <th></th>\n",
       "      <th></th>\n",
       "    </tr>\n",
       "  </thead>\n",
       "  <tbody>\n",
       "    <tr>\n",
       "      <th>2016-08-17 00:00:00-04:00</th>\n",
       "      <td>112.45</td>\n",
       "      <td>112.6600</td>\n",
       "      <td>112.3600</td>\n",
       "      <td>112.580</td>\n",
       "      <td>3136737.0</td>\n",
       "      <td>NaN</td>\n",
       "      <td>NaN</td>\n",
       "      <td>NaN</td>\n",
       "      <td>NaN</td>\n",
       "      <td>NaN</td>\n",
       "    </tr>\n",
       "    <tr>\n",
       "      <th>2016-08-18 00:00:00-04:00</th>\n",
       "      <td>112.64</td>\n",
       "      <td>112.7799</td>\n",
       "      <td>112.5350</td>\n",
       "      <td>112.705</td>\n",
       "      <td>1814107.0</td>\n",
       "      <td>218.33</td>\n",
       "      <td>218.90</td>\n",
       "      <td>218.21</td>\n",
       "      <td>218.87</td>\n",
       "      <td>42850145.0</td>\n",
       "    </tr>\n",
       "    <tr>\n",
       "      <th>2016-08-19 00:00:00-04:00</th>\n",
       "      <td>112.53</td>\n",
       "      <td>112.6200</td>\n",
       "      <td>112.3900</td>\n",
       "      <td>112.490</td>\n",
       "      <td>2961016.0</td>\n",
       "      <td>218.31</td>\n",
       "      <td>218.75</td>\n",
       "      <td>217.74</td>\n",
       "      <td>218.57</td>\n",
       "      <td>52238224.0</td>\n",
       "    </tr>\n",
       "    <tr>\n",
       "      <th>2016-08-22 00:00:00-04:00</th>\n",
       "      <td>112.66</td>\n",
       "      <td>112.7380</td>\n",
       "      <td>112.5600</td>\n",
       "      <td>112.650</td>\n",
       "      <td>1647564.0</td>\n",
       "      <td>218.27</td>\n",
       "      <td>218.80</td>\n",
       "      <td>217.83</td>\n",
       "      <td>218.50</td>\n",
       "      <td>48628907.0</td>\n",
       "    </tr>\n",
       "    <tr>\n",
       "      <th>2016-08-23 00:00:00-04:00</th>\n",
       "      <td>112.78</td>\n",
       "      <td>112.8250</td>\n",
       "      <td>112.6301</td>\n",
       "      <td>112.690</td>\n",
       "      <td>2197732.0</td>\n",
       "      <td>219.25</td>\n",
       "      <td>219.60</td>\n",
       "      <td>218.90</td>\n",
       "      <td>218.94</td>\n",
       "      <td>41981207.0</td>\n",
       "    </tr>\n",
       "  </tbody>\n",
       "</table>\n",
       "</div>"
      ],
      "text/plain": [
       "                              AGG                                          \\\n",
       "                             open      high       low    close     volume   \n",
       "time                                                                        \n",
       "2016-08-17 00:00:00-04:00  112.45  112.6600  112.3600  112.580  3136737.0   \n",
       "2016-08-18 00:00:00-04:00  112.64  112.7799  112.5350  112.705  1814107.0   \n",
       "2016-08-19 00:00:00-04:00  112.53  112.6200  112.3900  112.490  2961016.0   \n",
       "2016-08-22 00:00:00-04:00  112.66  112.7380  112.5600  112.650  1647564.0   \n",
       "2016-08-23 00:00:00-04:00  112.78  112.8250  112.6301  112.690  2197732.0   \n",
       "\n",
       "                              SPY                                      \n",
       "                             open    high     low   close      volume  \n",
       "time                                                                   \n",
       "2016-08-17 00:00:00-04:00     NaN     NaN     NaN     NaN         NaN  \n",
       "2016-08-18 00:00:00-04:00  218.33  218.90  218.21  218.87  42850145.0  \n",
       "2016-08-19 00:00:00-04:00  218.31  218.75  217.74  218.57  52238224.0  \n",
       "2016-08-22 00:00:00-04:00  218.27  218.80  217.83  218.50  48628907.0  \n",
       "2016-08-23 00:00:00-04:00  219.25  219.60  218.90  218.94  41981207.0  "
      ]
     },
     "execution_count": 82,
     "metadata": {},
     "output_type": "execute_result"
    }
   ],
   "source": [
    "# Get 5 years' worth of historical data for SPY and AGG\n",
    "df_ticker = alpaca.get_barset(\n",
    "    tickers,\n",
    "    timeframe,\n",
    "    start=start_date,\n",
    "    end=end_date,\n",
    "    limit=1000,\n",
    ").df\n",
    "# Display sample data\n",
    "df_ticker.head()"
   ]
  },
  {
   "cell_type": "code",
   "execution_count": 83,
   "id": "7a0c5a8e-4d40-4189-a6c2-9edd45be5c3e",
   "metadata": {},
   "outputs": [
    {
     "data": {
      "text/plain": [
       "\u001b[1;31mInit signature:\u001b[0m\n",
       "\u001b[0mMCSimulation\u001b[0m\u001b[1;33m(\u001b[0m\u001b[1;33m\n",
       "\u001b[0m    \u001b[0mportfolio_data\u001b[0m\u001b[1;33m,\u001b[0m\u001b[1;33m\n",
       "\u001b[0m    \u001b[0mweights\u001b[0m\u001b[1;33m=\u001b[0m\u001b[1;34m''\u001b[0m\u001b[1;33m,\u001b[0m\u001b[1;33m\n",
       "\u001b[0m    \u001b[0mnum_simulation\u001b[0m\u001b[1;33m=\u001b[0m\u001b[1;36m1000\u001b[0m\u001b[1;33m,\u001b[0m\u001b[1;33m\n",
       "\u001b[0m    \u001b[0mnum_trading_days\u001b[0m\u001b[1;33m=\u001b[0m\u001b[1;36m252\u001b[0m\u001b[1;33m,\u001b[0m\u001b[1;33m\n",
       "\u001b[0m\u001b[1;33m)\u001b[0m\u001b[1;33m\u001b[0m\u001b[1;33m\u001b[0m\u001b[0m\n",
       "\u001b[1;31mDocstring:\u001b[0m     \n",
       "A Python class for runnning Monte Carlo simulation on portfolio price data. \n",
       "\n",
       "...\n",
       "\n",
       "Attributes\n",
       "----------\n",
       "portfolio_data : pandas.DataFrame\n",
       "    portfolio dataframe\n",
       "weights: list(float)\n",
       "    portfolio investment breakdown\n",
       "nSim: int\n",
       "    number of samples in simulation\n",
       "nTrading: int\n",
       "    number of trading days to simulate\n",
       "simulated_return : pandas.DataFrame\n",
       "    Simulated data from Monte Carlo\n",
       "confidence_interval : pandas.Series\n",
       "    the 95% confidence intervals for simulated final cumulative returns\n",
       "    \n",
       "\u001b[1;31mInit docstring:\u001b[0m\n",
       "Constructs all the necessary attributes for the MCSimulation object.\n",
       "\n",
       "Parameters\n",
       "----------\n",
       "portfolio_data: pandas.DataFrame\n",
       "    DataFrame containing stock price information from Alpaca API\n",
       "weights: list(float)\n",
       "    A list fractions representing percentage of total investment per stock. DEFAULT: Equal distribution\n",
       "num_simulation: int\n",
       "    Number of simulation samples. DEFAULT: 1000 simulation samples\n",
       "num_trading_days: int\n",
       "    Number of trading days to simulate. DEFAULT: 252 days (1 year of business days)\n",
       "\u001b[1;31mFile:\u001b[0m           c:\\users\\orkhan\\desktop\\hw-4-api-updated-\\mcforecasttools.py\n",
       "\u001b[1;31mType:\u001b[0m           type\n",
       "\u001b[1;31mSubclasses:\u001b[0m     \n"
      ]
     },
     "metadata": {},
     "output_type": "display_data"
    }
   ],
   "source": [
    "# Print the documentation of the MCSimulation module of the MCForecastTools library\n",
    "?MCSimulation"
   ]
  },
  {
   "cell_type": "code",
   "execution_count": 84,
   "id": "2729d4bb-1645-4453-9b5c-0dd4a9634a18",
   "metadata": {},
   "outputs": [],
   "source": [
    "# Configuring a Monte Carlo simulation to forecast 30 years cumulative returns\n",
    "MC_thirtyyear = MCSimulation(\n",
    "    portfolio_data = df_ticker,\n",
    "    weights = [.60,.40],\n",
    "    num_simulation = 500,\n",
    "    num_trading_days = 252*30\n",
    ")"
   ]
  },
  {
   "cell_type": "code",
   "execution_count": 85,
   "id": "77fe4949-e3dd-4cc4-b02f-b45ea1a7cf84",
   "metadata": {},
   "outputs": [
    {
     "data": {
      "text/html": [
       "<div>\n",
       "<style scoped>\n",
       "    .dataframe tbody tr th:only-of-type {\n",
       "        vertical-align: middle;\n",
       "    }\n",
       "\n",
       "    .dataframe tbody tr th {\n",
       "        vertical-align: top;\n",
       "    }\n",
       "\n",
       "    .dataframe thead tr th {\n",
       "        text-align: left;\n",
       "    }\n",
       "\n",
       "    .dataframe thead tr:last-of-type th {\n",
       "        text-align: right;\n",
       "    }\n",
       "</style>\n",
       "<table border=\"1\" class=\"dataframe\">\n",
       "  <thead>\n",
       "    <tr>\n",
       "      <th></th>\n",
       "      <th colspan=\"6\" halign=\"left\">AGG</th>\n",
       "      <th colspan=\"6\" halign=\"left\">SPY</th>\n",
       "    </tr>\n",
       "    <tr>\n",
       "      <th></th>\n",
       "      <th>open</th>\n",
       "      <th>high</th>\n",
       "      <th>low</th>\n",
       "      <th>close</th>\n",
       "      <th>volume</th>\n",
       "      <th>daily_return</th>\n",
       "      <th>open</th>\n",
       "      <th>high</th>\n",
       "      <th>low</th>\n",
       "      <th>close</th>\n",
       "      <th>volume</th>\n",
       "      <th>daily_return</th>\n",
       "    </tr>\n",
       "    <tr>\n",
       "      <th>time</th>\n",
       "      <th></th>\n",
       "      <th></th>\n",
       "      <th></th>\n",
       "      <th></th>\n",
       "      <th></th>\n",
       "      <th></th>\n",
       "      <th></th>\n",
       "      <th></th>\n",
       "      <th></th>\n",
       "      <th></th>\n",
       "      <th></th>\n",
       "      <th></th>\n",
       "    </tr>\n",
       "  </thead>\n",
       "  <tbody>\n",
       "    <tr>\n",
       "      <th>2016-08-17 00:00:00-04:00</th>\n",
       "      <td>112.45</td>\n",
       "      <td>112.6600</td>\n",
       "      <td>112.3600</td>\n",
       "      <td>112.580</td>\n",
       "      <td>3136737.0</td>\n",
       "      <td>NaN</td>\n",
       "      <td>NaN</td>\n",
       "      <td>NaN</td>\n",
       "      <td>NaN</td>\n",
       "      <td>NaN</td>\n",
       "      <td>NaN</td>\n",
       "      <td>NaN</td>\n",
       "    </tr>\n",
       "    <tr>\n",
       "      <th>2016-08-18 00:00:00-04:00</th>\n",
       "      <td>112.64</td>\n",
       "      <td>112.7799</td>\n",
       "      <td>112.5350</td>\n",
       "      <td>112.705</td>\n",
       "      <td>1814107.0</td>\n",
       "      <td>0.001110</td>\n",
       "      <td>218.33</td>\n",
       "      <td>218.90</td>\n",
       "      <td>218.21</td>\n",
       "      <td>218.87</td>\n",
       "      <td>42850145.0</td>\n",
       "      <td>NaN</td>\n",
       "    </tr>\n",
       "    <tr>\n",
       "      <th>2016-08-19 00:00:00-04:00</th>\n",
       "      <td>112.53</td>\n",
       "      <td>112.6200</td>\n",
       "      <td>112.3900</td>\n",
       "      <td>112.490</td>\n",
       "      <td>2961016.0</td>\n",
       "      <td>-0.001908</td>\n",
       "      <td>218.31</td>\n",
       "      <td>218.75</td>\n",
       "      <td>217.74</td>\n",
       "      <td>218.57</td>\n",
       "      <td>52238224.0</td>\n",
       "      <td>-0.001371</td>\n",
       "    </tr>\n",
       "    <tr>\n",
       "      <th>2016-08-22 00:00:00-04:00</th>\n",
       "      <td>112.66</td>\n",
       "      <td>112.7380</td>\n",
       "      <td>112.5600</td>\n",
       "      <td>112.650</td>\n",
       "      <td>1647564.0</td>\n",
       "      <td>0.001422</td>\n",
       "      <td>218.27</td>\n",
       "      <td>218.80</td>\n",
       "      <td>217.83</td>\n",
       "      <td>218.50</td>\n",
       "      <td>48628907.0</td>\n",
       "      <td>-0.000320</td>\n",
       "    </tr>\n",
       "    <tr>\n",
       "      <th>2016-08-23 00:00:00-04:00</th>\n",
       "      <td>112.78</td>\n",
       "      <td>112.8250</td>\n",
       "      <td>112.6301</td>\n",
       "      <td>112.690</td>\n",
       "      <td>2197732.0</td>\n",
       "      <td>0.000355</td>\n",
       "      <td>219.25</td>\n",
       "      <td>219.60</td>\n",
       "      <td>218.90</td>\n",
       "      <td>218.94</td>\n",
       "      <td>41981207.0</td>\n",
       "      <td>0.002014</td>\n",
       "    </tr>\n",
       "  </tbody>\n",
       "</table>\n",
       "</div>"
      ],
      "text/plain": [
       "                              AGG                                          \\\n",
       "                             open      high       low    close     volume   \n",
       "time                                                                        \n",
       "2016-08-17 00:00:00-04:00  112.45  112.6600  112.3600  112.580  3136737.0   \n",
       "2016-08-18 00:00:00-04:00  112.64  112.7799  112.5350  112.705  1814107.0   \n",
       "2016-08-19 00:00:00-04:00  112.53  112.6200  112.3900  112.490  2961016.0   \n",
       "2016-08-22 00:00:00-04:00  112.66  112.7380  112.5600  112.650  1647564.0   \n",
       "2016-08-23 00:00:00-04:00  112.78  112.8250  112.6301  112.690  2197732.0   \n",
       "\n",
       "                                           SPY                          \\\n",
       "                          daily_return    open    high     low   close   \n",
       "time                                                                     \n",
       "2016-08-17 00:00:00-04:00          NaN     NaN     NaN     NaN     NaN   \n",
       "2016-08-18 00:00:00-04:00     0.001110  218.33  218.90  218.21  218.87   \n",
       "2016-08-19 00:00:00-04:00    -0.001908  218.31  218.75  217.74  218.57   \n",
       "2016-08-22 00:00:00-04:00     0.001422  218.27  218.80  217.83  218.50   \n",
       "2016-08-23 00:00:00-04:00     0.000355  219.25  219.60  218.90  218.94   \n",
       "\n",
       "                                                    \n",
       "                               volume daily_return  \n",
       "time                                                \n",
       "2016-08-17 00:00:00-04:00         NaN          NaN  \n",
       "2016-08-18 00:00:00-04:00  42850145.0          NaN  \n",
       "2016-08-19 00:00:00-04:00  52238224.0    -0.001371  \n",
       "2016-08-22 00:00:00-04:00  48628907.0    -0.000320  \n",
       "2016-08-23 00:00:00-04:00  41981207.0     0.002014  "
      ]
     },
     "execution_count": 85,
     "metadata": {},
     "output_type": "execute_result"
    }
   ],
   "source": [
    "# Printing the simulation input data\n",
    "MC_thirtyyear.portfolio_data.head()"
   ]
  },
  {
   "cell_type": "code",
   "execution_count": 86,
   "id": "8c756190-8add-447d-8110-68c5b779c373",
   "metadata": {},
   "outputs": [
    {
     "name": "stdout",
     "output_type": "stream",
     "text": [
      "Running Monte Carlo simulation number 0.\n",
      "Running Monte Carlo simulation number 10.\n",
      "Running Monte Carlo simulation number 20.\n",
      "Running Monte Carlo simulation number 30.\n",
      "Running Monte Carlo simulation number 40.\n",
      "Running Monte Carlo simulation number 50.\n",
      "Running Monte Carlo simulation number 60.\n",
      "Running Monte Carlo simulation number 70.\n",
      "Running Monte Carlo simulation number 80.\n",
      "Running Monte Carlo simulation number 90.\n",
      "Running Monte Carlo simulation number 100.\n"
     ]
    },
    {
     "name": "stderr",
     "output_type": "stream",
     "text": [
      "C:\\Users\\orkhan\\Desktop\\HW-4-API-updated-\\MCForecastTools.py:117: PerformanceWarning: DataFrame is highly fragmented.  This is usually the result of calling `frame.insert` many times, which has poor performance.  Consider joining all columns at once using pd.concat(axis=1) instead.  To get a de-fragmented frame, use `newframe = frame.copy()`\n",
      "  portfolio_cumulative_returns[n] = (1 + sim_df.fillna(0)).cumprod()\n"
     ]
    },
    {
     "name": "stdout",
     "output_type": "stream",
     "text": [
      "Running Monte Carlo simulation number 110.\n",
      "Running Monte Carlo simulation number 120.\n",
      "Running Monte Carlo simulation number 130.\n",
      "Running Monte Carlo simulation number 140.\n",
      "Running Monte Carlo simulation number 150.\n",
      "Running Monte Carlo simulation number 160.\n",
      "Running Monte Carlo simulation number 170.\n",
      "Running Monte Carlo simulation number 180.\n",
      "Running Monte Carlo simulation number 190.\n",
      "Running Monte Carlo simulation number 200.\n",
      "Running Monte Carlo simulation number 210.\n",
      "Running Monte Carlo simulation number 220.\n",
      "Running Monte Carlo simulation number 230.\n",
      "Running Monte Carlo simulation number 240.\n",
      "Running Monte Carlo simulation number 250.\n",
      "Running Monte Carlo simulation number 260.\n",
      "Running Monte Carlo simulation number 270.\n",
      "Running Monte Carlo simulation number 280.\n",
      "Running Monte Carlo simulation number 290.\n",
      "Running Monte Carlo simulation number 300.\n",
      "Running Monte Carlo simulation number 310.\n",
      "Running Monte Carlo simulation number 320.\n",
      "Running Monte Carlo simulation number 330.\n",
      "Running Monte Carlo simulation number 340.\n",
      "Running Monte Carlo simulation number 350.\n",
      "Running Monte Carlo simulation number 360.\n",
      "Running Monte Carlo simulation number 370.\n",
      "Running Monte Carlo simulation number 380.\n",
      "Running Monte Carlo simulation number 390.\n",
      "Running Monte Carlo simulation number 400.\n",
      "Running Monte Carlo simulation number 410.\n",
      "Running Monte Carlo simulation number 420.\n",
      "Running Monte Carlo simulation number 430.\n",
      "Running Monte Carlo simulation number 440.\n",
      "Running Monte Carlo simulation number 450.\n",
      "Running Monte Carlo simulation number 460.\n",
      "Running Monte Carlo simulation number 470.\n",
      "Running Monte Carlo simulation number 480.\n",
      "Running Monte Carlo simulation number 490.\n"
     ]
    },
    {
     "data": {
      "text/html": [
       "<div>\n",
       "<style scoped>\n",
       "    .dataframe tbody tr th:only-of-type {\n",
       "        vertical-align: middle;\n",
       "    }\n",
       "\n",
       "    .dataframe tbody tr th {\n",
       "        vertical-align: top;\n",
       "    }\n",
       "\n",
       "    .dataframe thead th {\n",
       "        text-align: right;\n",
       "    }\n",
       "</style>\n",
       "<table border=\"1\" class=\"dataframe\">\n",
       "  <thead>\n",
       "    <tr style=\"text-align: right;\">\n",
       "      <th></th>\n",
       "      <th>0</th>\n",
       "      <th>1</th>\n",
       "      <th>2</th>\n",
       "      <th>3</th>\n",
       "      <th>4</th>\n",
       "      <th>5</th>\n",
       "      <th>6</th>\n",
       "      <th>7</th>\n",
       "      <th>8</th>\n",
       "      <th>9</th>\n",
       "      <th>...</th>\n",
       "      <th>490</th>\n",
       "      <th>491</th>\n",
       "      <th>492</th>\n",
       "      <th>493</th>\n",
       "      <th>494</th>\n",
       "      <th>495</th>\n",
       "      <th>496</th>\n",
       "      <th>497</th>\n",
       "      <th>498</th>\n",
       "      <th>499</th>\n",
       "    </tr>\n",
       "  </thead>\n",
       "  <tbody>\n",
       "    <tr>\n",
       "      <th>0</th>\n",
       "      <td>1.000000</td>\n",
       "      <td>1.000000</td>\n",
       "      <td>1.000000</td>\n",
       "      <td>1.000000</td>\n",
       "      <td>1.000000</td>\n",
       "      <td>1.000000</td>\n",
       "      <td>1.000000</td>\n",
       "      <td>1.000000</td>\n",
       "      <td>1.000000</td>\n",
       "      <td>1.000000</td>\n",
       "      <td>...</td>\n",
       "      <td>1.000000</td>\n",
       "      <td>1.000000</td>\n",
       "      <td>1.000000</td>\n",
       "      <td>1.000000</td>\n",
       "      <td>1.000000</td>\n",
       "      <td>1.000000</td>\n",
       "      <td>1.000000</td>\n",
       "      <td>1.000000</td>\n",
       "      <td>1.000000</td>\n",
       "      <td>1.000000</td>\n",
       "    </tr>\n",
       "    <tr>\n",
       "      <th>1</th>\n",
       "      <td>0.996009</td>\n",
       "      <td>1.001671</td>\n",
       "      <td>0.994807</td>\n",
       "      <td>0.996398</td>\n",
       "      <td>0.998319</td>\n",
       "      <td>0.997087</td>\n",
       "      <td>0.991995</td>\n",
       "      <td>0.999135</td>\n",
       "      <td>1.009119</td>\n",
       "      <td>0.995208</td>\n",
       "      <td>...</td>\n",
       "      <td>1.001089</td>\n",
       "      <td>1.001035</td>\n",
       "      <td>0.998331</td>\n",
       "      <td>0.999045</td>\n",
       "      <td>0.999484</td>\n",
       "      <td>1.004637</td>\n",
       "      <td>1.003843</td>\n",
       "      <td>0.999322</td>\n",
       "      <td>1.003949</td>\n",
       "      <td>1.006103</td>\n",
       "    </tr>\n",
       "    <tr>\n",
       "      <th>2</th>\n",
       "      <td>0.998667</td>\n",
       "      <td>0.992302</td>\n",
       "      <td>0.996753</td>\n",
       "      <td>0.996000</td>\n",
       "      <td>1.001773</td>\n",
       "      <td>0.994635</td>\n",
       "      <td>1.004080</td>\n",
       "      <td>1.000739</td>\n",
       "      <td>1.010921</td>\n",
       "      <td>0.997703</td>\n",
       "      <td>...</td>\n",
       "      <td>0.999583</td>\n",
       "      <td>1.005374</td>\n",
       "      <td>1.003519</td>\n",
       "      <td>0.997374</td>\n",
       "      <td>0.997106</td>\n",
       "      <td>1.002108</td>\n",
       "      <td>0.995894</td>\n",
       "      <td>0.990872</td>\n",
       "      <td>1.000826</td>\n",
       "      <td>1.011281</td>\n",
       "    </tr>\n",
       "    <tr>\n",
       "      <th>3</th>\n",
       "      <td>0.994614</td>\n",
       "      <td>0.993150</td>\n",
       "      <td>1.000986</td>\n",
       "      <td>1.001766</td>\n",
       "      <td>1.001528</td>\n",
       "      <td>1.000079</td>\n",
       "      <td>1.000789</td>\n",
       "      <td>1.002927</td>\n",
       "      <td>1.010878</td>\n",
       "      <td>0.986826</td>\n",
       "      <td>...</td>\n",
       "      <td>0.997267</td>\n",
       "      <td>0.999143</td>\n",
       "      <td>1.002716</td>\n",
       "      <td>0.995101</td>\n",
       "      <td>0.996596</td>\n",
       "      <td>1.002855</td>\n",
       "      <td>1.004119</td>\n",
       "      <td>0.983434</td>\n",
       "      <td>1.003594</td>\n",
       "      <td>1.013857</td>\n",
       "    </tr>\n",
       "    <tr>\n",
       "      <th>4</th>\n",
       "      <td>1.005771</td>\n",
       "      <td>0.997146</td>\n",
       "      <td>1.010676</td>\n",
       "      <td>0.995785</td>\n",
       "      <td>1.013977</td>\n",
       "      <td>0.999683</td>\n",
       "      <td>1.002840</td>\n",
       "      <td>1.010786</td>\n",
       "      <td>1.011589</td>\n",
       "      <td>0.990401</td>\n",
       "      <td>...</td>\n",
       "      <td>0.999022</td>\n",
       "      <td>1.005597</td>\n",
       "      <td>1.006362</td>\n",
       "      <td>0.993369</td>\n",
       "      <td>0.995700</td>\n",
       "      <td>1.000679</td>\n",
       "      <td>1.004604</td>\n",
       "      <td>0.981834</td>\n",
       "      <td>1.003679</td>\n",
       "      <td>1.012999</td>\n",
       "    </tr>\n",
       "    <tr>\n",
       "      <th>...</th>\n",
       "      <td>...</td>\n",
       "      <td>...</td>\n",
       "      <td>...</td>\n",
       "      <td>...</td>\n",
       "      <td>...</td>\n",
       "      <td>...</td>\n",
       "      <td>...</td>\n",
       "      <td>...</td>\n",
       "      <td>...</td>\n",
       "      <td>...</td>\n",
       "      <td>...</td>\n",
       "      <td>...</td>\n",
       "      <td>...</td>\n",
       "      <td>...</td>\n",
       "      <td>...</td>\n",
       "      <td>...</td>\n",
       "      <td>...</td>\n",
       "      <td>...</td>\n",
       "      <td>...</td>\n",
       "      <td>...</td>\n",
       "      <td>...</td>\n",
       "    </tr>\n",
       "    <tr>\n",
       "      <th>7556</th>\n",
       "      <td>7.347757</td>\n",
       "      <td>8.051647</td>\n",
       "      <td>9.302194</td>\n",
       "      <td>5.480578</td>\n",
       "      <td>8.660140</td>\n",
       "      <td>4.036378</td>\n",
       "      <td>2.732412</td>\n",
       "      <td>6.315354</td>\n",
       "      <td>3.412264</td>\n",
       "      <td>7.725156</td>\n",
       "      <td>...</td>\n",
       "      <td>10.709033</td>\n",
       "      <td>4.337164</td>\n",
       "      <td>4.551887</td>\n",
       "      <td>9.602001</td>\n",
       "      <td>2.153488</td>\n",
       "      <td>3.970658</td>\n",
       "      <td>5.592774</td>\n",
       "      <td>3.439185</td>\n",
       "      <td>4.829366</td>\n",
       "      <td>10.704424</td>\n",
       "    </tr>\n",
       "    <tr>\n",
       "      <th>7557</th>\n",
       "      <td>7.350605</td>\n",
       "      <td>8.008085</td>\n",
       "      <td>9.332189</td>\n",
       "      <td>5.442085</td>\n",
       "      <td>8.662268</td>\n",
       "      <td>4.056772</td>\n",
       "      <td>2.726871</td>\n",
       "      <td>6.287143</td>\n",
       "      <td>3.461105</td>\n",
       "      <td>7.770253</td>\n",
       "      <td>...</td>\n",
       "      <td>10.677153</td>\n",
       "      <td>4.366938</td>\n",
       "      <td>4.544678</td>\n",
       "      <td>9.567005</td>\n",
       "      <td>2.147864</td>\n",
       "      <td>3.942881</td>\n",
       "      <td>5.603776</td>\n",
       "      <td>3.440433</td>\n",
       "      <td>4.835596</td>\n",
       "      <td>10.775137</td>\n",
       "    </tr>\n",
       "    <tr>\n",
       "      <th>7558</th>\n",
       "      <td>7.331736</td>\n",
       "      <td>8.005418</td>\n",
       "      <td>9.304770</td>\n",
       "      <td>5.474609</td>\n",
       "      <td>8.648677</td>\n",
       "      <td>4.054576</td>\n",
       "      <td>2.687642</td>\n",
       "      <td>6.298283</td>\n",
       "      <td>3.482541</td>\n",
       "      <td>7.768038</td>\n",
       "      <td>...</td>\n",
       "      <td>10.743741</td>\n",
       "      <td>4.380545</td>\n",
       "      <td>4.546590</td>\n",
       "      <td>9.530616</td>\n",
       "      <td>2.142364</td>\n",
       "      <td>3.957544</td>\n",
       "      <td>5.600504</td>\n",
       "      <td>3.442230</td>\n",
       "      <td>4.872132</td>\n",
       "      <td>10.732262</td>\n",
       "    </tr>\n",
       "    <tr>\n",
       "      <th>7559</th>\n",
       "      <td>7.359260</td>\n",
       "      <td>8.072018</td>\n",
       "      <td>9.201167</td>\n",
       "      <td>5.473859</td>\n",
       "      <td>8.629250</td>\n",
       "      <td>4.069514</td>\n",
       "      <td>2.688630</td>\n",
       "      <td>6.328651</td>\n",
       "      <td>3.491587</td>\n",
       "      <td>7.804876</td>\n",
       "      <td>...</td>\n",
       "      <td>10.810624</td>\n",
       "      <td>4.354002</td>\n",
       "      <td>4.614805</td>\n",
       "      <td>9.543993</td>\n",
       "      <td>2.169062</td>\n",
       "      <td>3.919004</td>\n",
       "      <td>5.575203</td>\n",
       "      <td>3.431307</td>\n",
       "      <td>4.862341</td>\n",
       "      <td>10.742119</td>\n",
       "    </tr>\n",
       "    <tr>\n",
       "      <th>7560</th>\n",
       "      <td>7.351613</td>\n",
       "      <td>8.072393</td>\n",
       "      <td>9.202432</td>\n",
       "      <td>5.425272</td>\n",
       "      <td>8.667674</td>\n",
       "      <td>4.062764</td>\n",
       "      <td>2.697041</td>\n",
       "      <td>6.349082</td>\n",
       "      <td>3.474481</td>\n",
       "      <td>7.828092</td>\n",
       "      <td>...</td>\n",
       "      <td>10.820619</td>\n",
       "      <td>4.302067</td>\n",
       "      <td>4.574851</td>\n",
       "      <td>9.544237</td>\n",
       "      <td>2.163661</td>\n",
       "      <td>3.926142</td>\n",
       "      <td>5.569503</td>\n",
       "      <td>3.447192</td>\n",
       "      <td>4.878124</td>\n",
       "      <td>10.730916</td>\n",
       "    </tr>\n",
       "  </tbody>\n",
       "</table>\n",
       "<p>7561 rows × 500 columns</p>\n",
       "</div>"
      ],
      "text/plain": [
       "           0         1         2         3         4         5         6    \\\n",
       "0     1.000000  1.000000  1.000000  1.000000  1.000000  1.000000  1.000000   \n",
       "1     0.996009  1.001671  0.994807  0.996398  0.998319  0.997087  0.991995   \n",
       "2     0.998667  0.992302  0.996753  0.996000  1.001773  0.994635  1.004080   \n",
       "3     0.994614  0.993150  1.000986  1.001766  1.001528  1.000079  1.000789   \n",
       "4     1.005771  0.997146  1.010676  0.995785  1.013977  0.999683  1.002840   \n",
       "...        ...       ...       ...       ...       ...       ...       ...   \n",
       "7556  7.347757  8.051647  9.302194  5.480578  8.660140  4.036378  2.732412   \n",
       "7557  7.350605  8.008085  9.332189  5.442085  8.662268  4.056772  2.726871   \n",
       "7558  7.331736  8.005418  9.304770  5.474609  8.648677  4.054576  2.687642   \n",
       "7559  7.359260  8.072018  9.201167  5.473859  8.629250  4.069514  2.688630   \n",
       "7560  7.351613  8.072393  9.202432  5.425272  8.667674  4.062764  2.697041   \n",
       "\n",
       "           7         8         9    ...        490       491       492  \\\n",
       "0     1.000000  1.000000  1.000000  ...   1.000000  1.000000  1.000000   \n",
       "1     0.999135  1.009119  0.995208  ...   1.001089  1.001035  0.998331   \n",
       "2     1.000739  1.010921  0.997703  ...   0.999583  1.005374  1.003519   \n",
       "3     1.002927  1.010878  0.986826  ...   0.997267  0.999143  1.002716   \n",
       "4     1.010786  1.011589  0.990401  ...   0.999022  1.005597  1.006362   \n",
       "...        ...       ...       ...  ...        ...       ...       ...   \n",
       "7556  6.315354  3.412264  7.725156  ...  10.709033  4.337164  4.551887   \n",
       "7557  6.287143  3.461105  7.770253  ...  10.677153  4.366938  4.544678   \n",
       "7558  6.298283  3.482541  7.768038  ...  10.743741  4.380545  4.546590   \n",
       "7559  6.328651  3.491587  7.804876  ...  10.810624  4.354002  4.614805   \n",
       "7560  6.349082  3.474481  7.828092  ...  10.820619  4.302067  4.574851   \n",
       "\n",
       "           493       494       495       496       497       498        499  \n",
       "0     1.000000  1.000000  1.000000  1.000000  1.000000  1.000000   1.000000  \n",
       "1     0.999045  0.999484  1.004637  1.003843  0.999322  1.003949   1.006103  \n",
       "2     0.997374  0.997106  1.002108  0.995894  0.990872  1.000826   1.011281  \n",
       "3     0.995101  0.996596  1.002855  1.004119  0.983434  1.003594   1.013857  \n",
       "4     0.993369  0.995700  1.000679  1.004604  0.981834  1.003679   1.012999  \n",
       "...        ...       ...       ...       ...       ...       ...        ...  \n",
       "7556  9.602001  2.153488  3.970658  5.592774  3.439185  4.829366  10.704424  \n",
       "7557  9.567005  2.147864  3.942881  5.603776  3.440433  4.835596  10.775137  \n",
       "7558  9.530616  2.142364  3.957544  5.600504  3.442230  4.872132  10.732262  \n",
       "7559  9.543993  2.169062  3.919004  5.575203  3.431307  4.862341  10.742119  \n",
       "7560  9.544237  2.163661  3.926142  5.569503  3.447192  4.878124  10.730916  \n",
       "\n",
       "[7561 rows x 500 columns]"
      ]
     },
     "execution_count": 86,
     "metadata": {},
     "output_type": "execute_result"
    }
   ],
   "source": [
    "# Running a Monte Carlo simulation to forecast 30 years cumulative returns\n",
    "MC_thirtyyear.calc_cumulative_return()"
   ]
  },
  {
   "cell_type": "code",
   "execution_count": 87,
   "id": "b2d2c781-2d98-47dd-9228-b1e2684d51f6",
   "metadata": {},
   "outputs": [
    {
     "data": {
      "image/png": "[encoded data removed]",
      "text/plain": [
       "<Figure size 432x288 with 1 Axes>"
      ]
     },
     "metadata": {
      "needs_background": "light"
     },
     "output_type": "display_data"
    }
   ],
   "source": [
    "# Plot simulation outcomes\n",
    "line_plot = MC_thirtyyear.plot_simulation()"
   ]
  },
  {
   "cell_type": "code",
   "execution_count": 88,
   "id": "060162c3-7921-4bf7-ab57-469c719c4016",
   "metadata": {},
   "outputs": [
    {
     "data": {
      "image/png": "[encoded data removed]",
      "text/plain": [
       "<Figure size 432x288 with 1 Axes>"
      ]
     },
     "metadata": {
      "needs_background": "light"
     },
     "output_type": "display_data"
    }
   ],
   "source": [
    "# Plot probability distribution and confidence intervals\n",
    "dist_plot = MC_thirtyyear.plot_distribution()\n"
   ]
  },
  {
   "cell_type": "markdown",
   "id": "2c6e7b00-4488-4eb8-884c-fdcc507ec011",
   "metadata": {},
   "source": [
    "### Retirement Analysis"
   ]
  },
  {
   "cell_type": "code",
   "execution_count": 89,
   "id": "7c2a682d-cc07-493d-8040-3dbbc172832c",
   "metadata": {},
   "outputs": [
    {
     "name": "stdout",
     "output_type": "stream",
     "text": [
      "count           500.000000\n",
      "mean              6.107429\n",
      "std               3.130862\n",
      "min               1.180955\n",
      "25%               3.985016\n",
      "50%               5.475014\n",
      "75%               7.477100\n",
      "max              25.901292\n",
      "95% CI Lower      2.127196\n",
      "95% CI Upper     13.832675\n",
      "Name: 7560, dtype: float64\n"
     ]
    }
   ],
   "source": [
    "# Fetch summary statistics from the Monte Carlo simulation results\n",
    "tbl = MC_thirtyyear.summarize_cumulative_return()\n",
    "\n",
    "# Print summary statistics\n",
    "print(tbl)"
   ]
  },
  {
   "cell_type": "markdown",
   "id": "2b7935b5-a373-4597-8cb8-ebe2a271aba0",
   "metadata": {},
   "source": [
    "### Calculate the expected portfolio return at the 95% lower and upper confidence intervals based on a `$20,000` initial investment."
   ]
  },
  {
   "cell_type": "code",
   "execution_count": 90,
   "id": "1cb55e05-ae45-4439-9246-a59d0d042e31",
   "metadata": {},
   "outputs": [
    {
     "name": "stdout",
     "output_type": "stream",
     "text": [
      "There is a 95% chance that an initial investment of $20000 in the portfolio over the next 30 years will end within in the range of $42543.92 and $276653.5\n"
     ]
    }
   ],
   "source": [
    "# Set initial investment\n",
    "initial_investment = 20000\n",
    "\n",
    "# Use the lower and upper `95%` confidence intervals to calculate the range of the possible outcomes of our $20,000\n",
    "ci_lower = round(tbl[8]*20000,2)\n",
    "ci_upper = round(tbl[9]*20000,2)\n",
    "\n",
    "# Print results\n",
    "print(f\"There is a 95% chance that an initial investment of ${initial_investment} in the portfolio\"\n",
    "      f\" over the next 30 years will end within in the range of\"\n",
    "      f\" ${ci_lower} and ${ci_upper}\")"
   ]
  },
  {
   "cell_type": "markdown",
   "id": "2b0784d2-e0e0-4a8a-82f5-33acbea118af",
   "metadata": {},
   "source": [
    "### Calculate the expected portfolio return at the `95%` lower and upper confidence intervals based on a `50%` increase in the initial investment."
   ]
  },
  {
   "cell_type": "code",
   "execution_count": null,
   "id": "88190cc2-9abd-4053-8df8-6a39bb978169",
   "metadata": {},
   "outputs": [],
   "source": [
    "# Set initial investment\n",
    "initial_investment = 20000 * 1.5\n",
    "\n",
    "# Use the lower and upper `95%` confidence intervals to calculate the range of the possible outcomes of our $30,000\n",
    "ci_lower = round(tbl[8]*30000,2)\n",
    "ci_upper = round(tbl[9]*30000,2)\n",
    "\n",
    "# Print results\n",
    "print(f\"There is a 95% chance that an initial investment of ${initial_investment} in the portfolio\"\n",
    "      f\" over the next 30 years will end within in the range of\"\n",
    "      f\" ${ci_lower} and ${ci_upper}\")"
   ]
  },
  {
   "cell_type": "markdown",
   "id": "2c192157-1294-4328-a87c-60d163d115cb",
   "metadata": {},
   "source": [
    "## Optional Challenge - Early Retirement\n",
    "\n",
    "\n",
    "### Five Years Retirement Option"
   ]
  },
  {
   "cell_type": "code",
   "execution_count": 91,
   "id": "877cc1cb-a381-4b0e-bc79-f1cbac7a0ab7",
   "metadata": {},
   "outputs": [
    {
     "data": {
      "text/html": [
       "<div>\n",
       "<style scoped>\n",
       "    .dataframe tbody tr th:only-of-type {\n",
       "        vertical-align: middle;\n",
       "    }\n",
       "\n",
       "    .dataframe tbody tr th {\n",
       "        vertical-align: top;\n",
       "    }\n",
       "\n",
       "    .dataframe thead tr th {\n",
       "        text-align: left;\n",
       "    }\n",
       "\n",
       "    .dataframe thead tr:last-of-type th {\n",
       "        text-align: right;\n",
       "    }\n",
       "</style>\n",
       "<table border=\"1\" class=\"dataframe\">\n",
       "  <thead>\n",
       "    <tr>\n",
       "      <th></th>\n",
       "      <th colspan=\"6\" halign=\"left\">AGG</th>\n",
       "      <th colspan=\"6\" halign=\"left\">SPY</th>\n",
       "    </tr>\n",
       "    <tr>\n",
       "      <th></th>\n",
       "      <th>open</th>\n",
       "      <th>high</th>\n",
       "      <th>low</th>\n",
       "      <th>close</th>\n",
       "      <th>volume</th>\n",
       "      <th>daily_return</th>\n",
       "      <th>open</th>\n",
       "      <th>high</th>\n",
       "      <th>low</th>\n",
       "      <th>close</th>\n",
       "      <th>volume</th>\n",
       "      <th>daily_return</th>\n",
       "    </tr>\n",
       "    <tr>\n",
       "      <th>time</th>\n",
       "      <th></th>\n",
       "      <th></th>\n",
       "      <th></th>\n",
       "      <th></th>\n",
       "      <th></th>\n",
       "      <th></th>\n",
       "      <th></th>\n",
       "      <th></th>\n",
       "      <th></th>\n",
       "      <th></th>\n",
       "      <th></th>\n",
       "      <th></th>\n",
       "    </tr>\n",
       "  </thead>\n",
       "  <tbody>\n",
       "    <tr>\n",
       "      <th>2016-08-17 00:00:00-04:00</th>\n",
       "      <td>112.45</td>\n",
       "      <td>112.6600</td>\n",
       "      <td>112.3600</td>\n",
       "      <td>112.580</td>\n",
       "      <td>3136737.0</td>\n",
       "      <td>NaN</td>\n",
       "      <td>NaN</td>\n",
       "      <td>NaN</td>\n",
       "      <td>NaN</td>\n",
       "      <td>NaN</td>\n",
       "      <td>NaN</td>\n",
       "      <td>NaN</td>\n",
       "    </tr>\n",
       "    <tr>\n",
       "      <th>2016-08-18 00:00:00-04:00</th>\n",
       "      <td>112.64</td>\n",
       "      <td>112.7799</td>\n",
       "      <td>112.5350</td>\n",
       "      <td>112.705</td>\n",
       "      <td>1814107.0</td>\n",
       "      <td>0.001110</td>\n",
       "      <td>218.33</td>\n",
       "      <td>218.90</td>\n",
       "      <td>218.21</td>\n",
       "      <td>218.87</td>\n",
       "      <td>42850145.0</td>\n",
       "      <td>NaN</td>\n",
       "    </tr>\n",
       "    <tr>\n",
       "      <th>2016-08-19 00:00:00-04:00</th>\n",
       "      <td>112.53</td>\n",
       "      <td>112.6200</td>\n",
       "      <td>112.3900</td>\n",
       "      <td>112.490</td>\n",
       "      <td>2961016.0</td>\n",
       "      <td>-0.001908</td>\n",
       "      <td>218.31</td>\n",
       "      <td>218.75</td>\n",
       "      <td>217.74</td>\n",
       "      <td>218.57</td>\n",
       "      <td>52238224.0</td>\n",
       "      <td>-0.001371</td>\n",
       "    </tr>\n",
       "    <tr>\n",
       "      <th>2016-08-22 00:00:00-04:00</th>\n",
       "      <td>112.66</td>\n",
       "      <td>112.7380</td>\n",
       "      <td>112.5600</td>\n",
       "      <td>112.650</td>\n",
       "      <td>1647564.0</td>\n",
       "      <td>0.001422</td>\n",
       "      <td>218.27</td>\n",
       "      <td>218.80</td>\n",
       "      <td>217.83</td>\n",
       "      <td>218.50</td>\n",
       "      <td>48628907.0</td>\n",
       "      <td>-0.000320</td>\n",
       "    </tr>\n",
       "    <tr>\n",
       "      <th>2016-08-23 00:00:00-04:00</th>\n",
       "      <td>112.78</td>\n",
       "      <td>112.8250</td>\n",
       "      <td>112.6301</td>\n",
       "      <td>112.690</td>\n",
       "      <td>2197732.0</td>\n",
       "      <td>0.000355</td>\n",
       "      <td>219.25</td>\n",
       "      <td>219.60</td>\n",
       "      <td>218.90</td>\n",
       "      <td>218.94</td>\n",
       "      <td>41981207.0</td>\n",
       "      <td>0.002014</td>\n",
       "    </tr>\n",
       "  </tbody>\n",
       "</table>\n",
       "</div>"
      ],
      "text/plain": [
       "                              AGG                                          \\\n",
       "                             open      high       low    close     volume   \n",
       "time                                                                        \n",
       "2016-08-17 00:00:00-04:00  112.45  112.6600  112.3600  112.580  3136737.0   \n",
       "2016-08-18 00:00:00-04:00  112.64  112.7799  112.5350  112.705  1814107.0   \n",
       "2016-08-19 00:00:00-04:00  112.53  112.6200  112.3900  112.490  2961016.0   \n",
       "2016-08-22 00:00:00-04:00  112.66  112.7380  112.5600  112.650  1647564.0   \n",
       "2016-08-23 00:00:00-04:00  112.78  112.8250  112.6301  112.690  2197732.0   \n",
       "\n",
       "                                           SPY                          \\\n",
       "                          daily_return    open    high     low   close   \n",
       "time                                                                     \n",
       "2016-08-17 00:00:00-04:00          NaN     NaN     NaN     NaN     NaN   \n",
       "2016-08-18 00:00:00-04:00     0.001110  218.33  218.90  218.21  218.87   \n",
       "2016-08-19 00:00:00-04:00    -0.001908  218.31  218.75  217.74  218.57   \n",
       "2016-08-22 00:00:00-04:00     0.001422  218.27  218.80  217.83  218.50   \n",
       "2016-08-23 00:00:00-04:00     0.000355  219.25  219.60  218.90  218.94   \n",
       "\n",
       "                                                    \n",
       "                               volume daily_return  \n",
       "time                                                \n",
       "2016-08-17 00:00:00-04:00         NaN          NaN  \n",
       "2016-08-18 00:00:00-04:00  42850145.0          NaN  \n",
       "2016-08-19 00:00:00-04:00  52238224.0    -0.001371  \n",
       "2016-08-22 00:00:00-04:00  48628907.0    -0.000320  \n",
       "2016-08-23 00:00:00-04:00  41981207.0     0.002014  "
      ]
     },
     "execution_count": 91,
     "metadata": {},
     "output_type": "execute_result"
    }
   ],
   "source": [
    "# Configuring a Monte Carlo simulation to forecast 5 years cumulative returns\n",
    "MC_even_dist_five = MCSimulation(portfolio_data = df_ticker, weights = [.40,.60], num_simulation = 500, num_trading_days = 252*5)\n",
    "MC_even_dist_five.portfolio_data.head()"
   ]
  },
  {
   "cell_type": "code",
   "execution_count": 92,
   "id": "603d39c6-2b59-4493-865a-c02f75b47c90",
   "metadata": {},
   "outputs": [
    {
     "name": "stdout",
     "output_type": "stream",
     "text": [
      "Running Monte Carlo simulation number 0.\n",
      "Running Monte Carlo simulation number 10.\n",
      "Running Monte Carlo simulation number 20.\n",
      "Running Monte Carlo simulation number 30.\n",
      "Running Monte Carlo simulation number 40.\n",
      "Running Monte Carlo simulation number 50.\n",
      "Running Monte Carlo simulation number 60.\n",
      "Running Monte Carlo simulation number 70.\n",
      "Running Monte Carlo simulation number 80.\n",
      "Running Monte Carlo simulation number 90.\n",
      "Running Monte Carlo simulation number 100.\n"
     ]
    },
    {
     "name": "stderr",
     "output_type": "stream",
     "text": [
      "C:\\Users\\orkhan\\Desktop\\HW-4-API-updated-\\MCForecastTools.py:117: PerformanceWarning: DataFrame is highly fragmented.  This is usually the result of calling `frame.insert` many times, which has poor performance.  Consider joining all columns at once using pd.concat(axis=1) instead.  To get a de-fragmented frame, use `newframe = frame.copy()`\n",
      "  portfolio_cumulative_returns[n] = (1 + sim_df.fillna(0)).cumprod()\n"
     ]
    },
    {
     "name": "stdout",
     "output_type": "stream",
     "text": [
      "Running Monte Carlo simulation number 110.\n",
      "Running Monte Carlo simulation number 120.\n",
      "Running Monte Carlo simulation number 130.\n",
      "Running Monte Carlo simulation number 140.\n",
      "Running Monte Carlo simulation number 150.\n",
      "Running Monte Carlo simulation number 160.\n",
      "Running Monte Carlo simulation number 170.\n",
      "Running Monte Carlo simulation number 180.\n",
      "Running Monte Carlo simulation number 190.\n",
      "Running Monte Carlo simulation number 200.\n",
      "Running Monte Carlo simulation number 210.\n",
      "Running Monte Carlo simulation number 220.\n",
      "Running Monte Carlo simulation number 230.\n",
      "Running Monte Carlo simulation number 240.\n",
      "Running Monte Carlo simulation number 250.\n",
      "Running Monte Carlo simulation number 260.\n",
      "Running Monte Carlo simulation number 270.\n",
      "Running Monte Carlo simulation number 280.\n",
      "Running Monte Carlo simulation number 290.\n",
      "Running Monte Carlo simulation number 300.\n",
      "Running Monte Carlo simulation number 310.\n",
      "Running Monte Carlo simulation number 320.\n",
      "Running Monte Carlo simulation number 330.\n",
      "Running Monte Carlo simulation number 340.\n",
      "Running Monte Carlo simulation number 350.\n",
      "Running Monte Carlo simulation number 360.\n",
      "Running Monte Carlo simulation number 370.\n",
      "Running Monte Carlo simulation number 380.\n",
      "Running Monte Carlo simulation number 390.\n",
      "Running Monte Carlo simulation number 400.\n",
      "Running Monte Carlo simulation number 410.\n",
      "Running Monte Carlo simulation number 420.\n",
      "Running Monte Carlo simulation number 430.\n",
      "Running Monte Carlo simulation number 440.\n",
      "Running Monte Carlo simulation number 450.\n",
      "Running Monte Carlo simulation number 460.\n",
      "Running Monte Carlo simulation number 470.\n",
      "Running Monte Carlo simulation number 480.\n",
      "Running Monte Carlo simulation number 490.\n"
     ]
    },
    {
     "data": {
      "text/html": [
       "<div>\n",
       "<style scoped>\n",
       "    .dataframe tbody tr th:only-of-type {\n",
       "        vertical-align: middle;\n",
       "    }\n",
       "\n",
       "    .dataframe tbody tr th {\n",
       "        vertical-align: top;\n",
       "    }\n",
       "\n",
       "    .dataframe thead th {\n",
       "        text-align: right;\n",
       "    }\n",
       "</style>\n",
       "<table border=\"1\" class=\"dataframe\">\n",
       "  <thead>\n",
       "    <tr style=\"text-align: right;\">\n",
       "      <th></th>\n",
       "      <th>0</th>\n",
       "      <th>1</th>\n",
       "      <th>2</th>\n",
       "      <th>3</th>\n",
       "      <th>4</th>\n",
       "      <th>5</th>\n",
       "      <th>6</th>\n",
       "      <th>7</th>\n",
       "      <th>8</th>\n",
       "      <th>9</th>\n",
       "      <th>...</th>\n",
       "      <th>490</th>\n",
       "      <th>491</th>\n",
       "      <th>492</th>\n",
       "      <th>493</th>\n",
       "      <th>494</th>\n",
       "      <th>495</th>\n",
       "      <th>496</th>\n",
       "      <th>497</th>\n",
       "      <th>498</th>\n",
       "      <th>499</th>\n",
       "    </tr>\n",
       "  </thead>\n",
       "  <tbody>\n",
       "    <tr>\n",
       "      <th>0</th>\n",
       "      <td>1.000000</td>\n",
       "      <td>1.000000</td>\n",
       "      <td>1.000000</td>\n",
       "      <td>1.000000</td>\n",
       "      <td>1.000000</td>\n",
       "      <td>1.000000</td>\n",
       "      <td>1.000000</td>\n",
       "      <td>1.000000</td>\n",
       "      <td>1.000000</td>\n",
       "      <td>1.000000</td>\n",
       "      <td>...</td>\n",
       "      <td>1.000000</td>\n",
       "      <td>1.000000</td>\n",
       "      <td>1.000000</td>\n",
       "      <td>1.000000</td>\n",
       "      <td>1.000000</td>\n",
       "      <td>1.000000</td>\n",
       "      <td>1.000000</td>\n",
       "      <td>1.000000</td>\n",
       "      <td>1.000000</td>\n",
       "      <td>1.000000</td>\n",
       "    </tr>\n",
       "    <tr>\n",
       "      <th>1</th>\n",
       "      <td>0.999570</td>\n",
       "      <td>1.011078</td>\n",
       "      <td>1.005477</td>\n",
       "      <td>1.002969</td>\n",
       "      <td>1.005149</td>\n",
       "      <td>0.998497</td>\n",
       "      <td>1.002842</td>\n",
       "      <td>1.002705</td>\n",
       "      <td>1.008731</td>\n",
       "      <td>0.993194</td>\n",
       "      <td>...</td>\n",
       "      <td>0.993319</td>\n",
       "      <td>0.985579</td>\n",
       "      <td>1.007815</td>\n",
       "      <td>0.989029</td>\n",
       "      <td>0.996059</td>\n",
       "      <td>0.995191</td>\n",
       "      <td>0.987306</td>\n",
       "      <td>1.002501</td>\n",
       "      <td>0.999251</td>\n",
       "      <td>1.009110</td>\n",
       "    </tr>\n",
       "    <tr>\n",
       "      <th>2</th>\n",
       "      <td>0.985589</td>\n",
       "      <td>1.008294</td>\n",
       "      <td>0.985698</td>\n",
       "      <td>1.000350</td>\n",
       "      <td>1.004274</td>\n",
       "      <td>0.994526</td>\n",
       "      <td>1.013460</td>\n",
       "      <td>0.992241</td>\n",
       "      <td>1.009082</td>\n",
       "      <td>0.987172</td>\n",
       "      <td>...</td>\n",
       "      <td>0.999334</td>\n",
       "      <td>0.993767</td>\n",
       "      <td>1.010153</td>\n",
       "      <td>0.982242</td>\n",
       "      <td>0.992842</td>\n",
       "      <td>0.995514</td>\n",
       "      <td>0.998181</td>\n",
       "      <td>1.002702</td>\n",
       "      <td>1.004010</td>\n",
       "      <td>1.017579</td>\n",
       "    </tr>\n",
       "    <tr>\n",
       "      <th>3</th>\n",
       "      <td>0.991136</td>\n",
       "      <td>1.006742</td>\n",
       "      <td>0.989898</td>\n",
       "      <td>0.992979</td>\n",
       "      <td>0.993904</td>\n",
       "      <td>1.002497</td>\n",
       "      <td>1.004682</td>\n",
       "      <td>0.993282</td>\n",
       "      <td>1.021957</td>\n",
       "      <td>0.985171</td>\n",
       "      <td>...</td>\n",
       "      <td>1.007731</td>\n",
       "      <td>0.996078</td>\n",
       "      <td>1.028885</td>\n",
       "      <td>0.979993</td>\n",
       "      <td>0.993117</td>\n",
       "      <td>1.012344</td>\n",
       "      <td>1.007460</td>\n",
       "      <td>1.004308</td>\n",
       "      <td>1.009987</td>\n",
       "      <td>1.026962</td>\n",
       "    </tr>\n",
       "    <tr>\n",
       "      <th>4</th>\n",
       "      <td>0.999776</td>\n",
       "      <td>1.008169</td>\n",
       "      <td>1.001677</td>\n",
       "      <td>0.986749</td>\n",
       "      <td>0.988079</td>\n",
       "      <td>0.999093</td>\n",
       "      <td>0.995763</td>\n",
       "      <td>0.994303</td>\n",
       "      <td>1.037418</td>\n",
       "      <td>0.989361</td>\n",
       "      <td>...</td>\n",
       "      <td>1.013263</td>\n",
       "      <td>0.997076</td>\n",
       "      <td>1.039506</td>\n",
       "      <td>0.981328</td>\n",
       "      <td>0.994151</td>\n",
       "      <td>1.017806</td>\n",
       "      <td>1.012521</td>\n",
       "      <td>1.003853</td>\n",
       "      <td>1.018638</td>\n",
       "      <td>1.035234</td>\n",
       "    </tr>\n",
       "    <tr>\n",
       "      <th>...</th>\n",
       "      <td>...</td>\n",
       "      <td>...</td>\n",
       "      <td>...</td>\n",
       "      <td>...</td>\n",
       "      <td>...</td>\n",
       "      <td>...</td>\n",
       "      <td>...</td>\n",
       "      <td>...</td>\n",
       "      <td>...</td>\n",
       "      <td>...</td>\n",
       "      <td>...</td>\n",
       "      <td>...</td>\n",
       "      <td>...</td>\n",
       "      <td>...</td>\n",
       "      <td>...</td>\n",
       "      <td>...</td>\n",
       "      <td>...</td>\n",
       "      <td>...</td>\n",
       "      <td>...</td>\n",
       "      <td>...</td>\n",
       "      <td>...</td>\n",
       "    </tr>\n",
       "    <tr>\n",
       "      <th>1256</th>\n",
       "      <td>1.295594</td>\n",
       "      <td>1.595587</td>\n",
       "      <td>1.530734</td>\n",
       "      <td>1.253424</td>\n",
       "      <td>0.918541</td>\n",
       "      <td>2.260830</td>\n",
       "      <td>1.262155</td>\n",
       "      <td>2.299231</td>\n",
       "      <td>1.172196</td>\n",
       "      <td>1.495743</td>\n",
       "      <td>...</td>\n",
       "      <td>1.494927</td>\n",
       "      <td>1.174638</td>\n",
       "      <td>1.362551</td>\n",
       "      <td>1.334481</td>\n",
       "      <td>0.975083</td>\n",
       "      <td>1.287478</td>\n",
       "      <td>1.562579</td>\n",
       "      <td>1.200552</td>\n",
       "      <td>1.096555</td>\n",
       "      <td>1.436235</td>\n",
       "    </tr>\n",
       "    <tr>\n",
       "      <th>1257</th>\n",
       "      <td>1.294625</td>\n",
       "      <td>1.607667</td>\n",
       "      <td>1.532289</td>\n",
       "      <td>1.251023</td>\n",
       "      <td>0.920214</td>\n",
       "      <td>2.293929</td>\n",
       "      <td>1.270886</td>\n",
       "      <td>2.278972</td>\n",
       "      <td>1.163674</td>\n",
       "      <td>1.499627</td>\n",
       "      <td>...</td>\n",
       "      <td>1.484820</td>\n",
       "      <td>1.171169</td>\n",
       "      <td>1.362216</td>\n",
       "      <td>1.338828</td>\n",
       "      <td>0.973695</td>\n",
       "      <td>1.285341</td>\n",
       "      <td>1.564357</td>\n",
       "      <td>1.195624</td>\n",
       "      <td>1.095250</td>\n",
       "      <td>1.437961</td>\n",
       "    </tr>\n",
       "    <tr>\n",
       "      <th>1258</th>\n",
       "      <td>1.303972</td>\n",
       "      <td>1.595487</td>\n",
       "      <td>1.546670</td>\n",
       "      <td>1.237559</td>\n",
       "      <td>0.932561</td>\n",
       "      <td>2.306232</td>\n",
       "      <td>1.280735</td>\n",
       "      <td>2.270276</td>\n",
       "      <td>1.177469</td>\n",
       "      <td>1.518656</td>\n",
       "      <td>...</td>\n",
       "      <td>1.490167</td>\n",
       "      <td>1.170914</td>\n",
       "      <td>1.351151</td>\n",
       "      <td>1.325262</td>\n",
       "      <td>0.984294</td>\n",
       "      <td>1.290313</td>\n",
       "      <td>1.587576</td>\n",
       "      <td>1.184454</td>\n",
       "      <td>1.087246</td>\n",
       "      <td>1.457008</td>\n",
       "    </tr>\n",
       "    <tr>\n",
       "      <th>1259</th>\n",
       "      <td>1.306788</td>\n",
       "      <td>1.605710</td>\n",
       "      <td>1.575345</td>\n",
       "      <td>1.231952</td>\n",
       "      <td>0.933440</td>\n",
       "      <td>2.283998</td>\n",
       "      <td>1.290501</td>\n",
       "      <td>2.269646</td>\n",
       "      <td>1.178720</td>\n",
       "      <td>1.489248</td>\n",
       "      <td>...</td>\n",
       "      <td>1.494736</td>\n",
       "      <td>1.176737</td>\n",
       "      <td>1.337431</td>\n",
       "      <td>1.311643</td>\n",
       "      <td>0.977543</td>\n",
       "      <td>1.286513</td>\n",
       "      <td>1.578268</td>\n",
       "      <td>1.175301</td>\n",
       "      <td>1.071025</td>\n",
       "      <td>1.457996</td>\n",
       "    </tr>\n",
       "    <tr>\n",
       "      <th>1260</th>\n",
       "      <td>1.305507</td>\n",
       "      <td>1.603313</td>\n",
       "      <td>1.563446</td>\n",
       "      <td>1.248282</td>\n",
       "      <td>0.934438</td>\n",
       "      <td>2.266602</td>\n",
       "      <td>1.305661</td>\n",
       "      <td>2.262164</td>\n",
       "      <td>1.184194</td>\n",
       "      <td>1.492219</td>\n",
       "      <td>...</td>\n",
       "      <td>1.506407</td>\n",
       "      <td>1.184790</td>\n",
       "      <td>1.325994</td>\n",
       "      <td>1.287571</td>\n",
       "      <td>0.988999</td>\n",
       "      <td>1.301559</td>\n",
       "      <td>1.590143</td>\n",
       "      <td>1.177658</td>\n",
       "      <td>1.074137</td>\n",
       "      <td>1.440097</td>\n",
       "    </tr>\n",
       "  </tbody>\n",
       "</table>\n",
       "<p>1261 rows × 500 columns</p>\n",
       "</div>"
      ],
      "text/plain": [
       "           0         1         2         3         4         5         6    \\\n",
       "0     1.000000  1.000000  1.000000  1.000000  1.000000  1.000000  1.000000   \n",
       "1     0.999570  1.011078  1.005477  1.002969  1.005149  0.998497  1.002842   \n",
       "2     0.985589  1.008294  0.985698  1.000350  1.004274  0.994526  1.013460   \n",
       "3     0.991136  1.006742  0.989898  0.992979  0.993904  1.002497  1.004682   \n",
       "4     0.999776  1.008169  1.001677  0.986749  0.988079  0.999093  0.995763   \n",
       "...        ...       ...       ...       ...       ...       ...       ...   \n",
       "1256  1.295594  1.595587  1.530734  1.253424  0.918541  2.260830  1.262155   \n",
       "1257  1.294625  1.607667  1.532289  1.251023  0.920214  2.293929  1.270886   \n",
       "1258  1.303972  1.595487  1.546670  1.237559  0.932561  2.306232  1.280735   \n",
       "1259  1.306788  1.605710  1.575345  1.231952  0.933440  2.283998  1.290501   \n",
       "1260  1.305507  1.603313  1.563446  1.248282  0.934438  2.266602  1.305661   \n",
       "\n",
       "           7         8         9    ...       490       491       492  \\\n",
       "0     1.000000  1.000000  1.000000  ...  1.000000  1.000000  1.000000   \n",
       "1     1.002705  1.008731  0.993194  ...  0.993319  0.985579  1.007815   \n",
       "2     0.992241  1.009082  0.987172  ...  0.999334  0.993767  1.010153   \n",
       "3     0.993282  1.021957  0.985171  ...  1.007731  0.996078  1.028885   \n",
       "4     0.994303  1.037418  0.989361  ...  1.013263  0.997076  1.039506   \n",
       "...        ...       ...       ...  ...       ...       ...       ...   \n",
       "1256  2.299231  1.172196  1.495743  ...  1.494927  1.174638  1.362551   \n",
       "1257  2.278972  1.163674  1.499627  ...  1.484820  1.171169  1.362216   \n",
       "1258  2.270276  1.177469  1.518656  ...  1.490167  1.170914  1.351151   \n",
       "1259  2.269646  1.178720  1.489248  ...  1.494736  1.176737  1.337431   \n",
       "1260  2.262164  1.184194  1.492219  ...  1.506407  1.184790  1.325994   \n",
       "\n",
       "           493       494       495       496       497       498       499  \n",
       "0     1.000000  1.000000  1.000000  1.000000  1.000000  1.000000  1.000000  \n",
       "1     0.989029  0.996059  0.995191  0.987306  1.002501  0.999251  1.009110  \n",
       "2     0.982242  0.992842  0.995514  0.998181  1.002702  1.004010  1.017579  \n",
       "3     0.979993  0.993117  1.012344  1.007460  1.004308  1.009987  1.026962  \n",
       "4     0.981328  0.994151  1.017806  1.012521  1.003853  1.018638  1.035234  \n",
       "...        ...       ...       ...       ...       ...       ...       ...  \n",
       "1256  1.334481  0.975083  1.287478  1.562579  1.200552  1.096555  1.436235  \n",
       "1257  1.338828  0.973695  1.285341  1.564357  1.195624  1.095250  1.437961  \n",
       "1258  1.325262  0.984294  1.290313  1.587576  1.184454  1.087246  1.457008  \n",
       "1259  1.311643  0.977543  1.286513  1.578268  1.175301  1.071025  1.457996  \n",
       "1260  1.287571  0.988999  1.301559  1.590143  1.177658  1.074137  1.440097  \n",
       "\n",
       "[1261 rows x 500 columns]"
      ]
     },
     "execution_count": 92,
     "metadata": {},
     "output_type": "execute_result"
    }
   ],
   "source": [
    "# Running a Monte Carlo simulation to forecast 5 years cumulative returns\n",
    "MC_even_dist_five.calc_cumulative_return()"
   ]
  },
  {
   "cell_type": "code",
   "execution_count": 93,
   "id": "d3f71097-86e1-4a77-83d5-53e4a33749bb",
   "metadata": {},
   "outputs": [
    {
     "data": {
      "image/png": "[encoded data removed]",
      "text/plain": [
       "<Figure size 432x288 with 1 Axes>"
      ]
     },
     "metadata": {
      "needs_background": "light"
     },
     "output_type": "display_data"
    }
   ],
   "source": [
    "# Plot simulation outcomes\n",
    "line_plot_five = MC_even_dist_five.plot_simulation()"
   ]
  },
  {
   "cell_type": "code",
   "execution_count": 95,
   "id": "db80cc32-f79a-4324-ad87-d34f63fc3b3f",
   "metadata": {},
   "outputs": [
    {
     "data": {
      "image/png": "[encoded data removed]",
      "text/plain": [
       "<Figure size 432x288 with 1 Axes>"
      ]
     },
     "metadata": {
      "needs_background": "light"
     },
     "output_type": "display_data"
    }
   ],
   "source": [
    "# Plot probability distribution and confidence intervals\n",
    "dist_plot_five = MC_even_dist_five.plot_distribution()"
   ]
  },
  {
   "cell_type": "code",
   "execution_count": 96,
   "id": "2b7adbc9-a3e9-498c-9641-2f0242635a89",
   "metadata": {},
   "outputs": [
    {
     "name": "stdout",
     "output_type": "stream",
     "text": [
      "count           500.000000\n",
      "mean              1.531222\n",
      "std               0.433832\n",
      "min               0.646824\n",
      "25%               1.227096\n",
      "50%               1.468166\n",
      "75%               1.760134\n",
      "max               3.716917\n",
      "95% CI Lower      0.870446\n",
      "95% CI Upper      2.517730\n",
      "Name: 1260, dtype: float64\n"
     ]
    }
   ],
   "source": [
    "# Fetch summary statistics from the Monte Carlo simulation results\n",
    "even_tbl_five = MC_even_dist_five.summarize_cumulative_return()\n",
    "# Print summary statistics\n",
    "print(even_tbl_five)"
   ]
  },
  {
   "cell_type": "code",
   "execution_count": 97,
   "id": "197d2641-b17e-4de7-9630-3f62fdd90ab6",
   "metadata": {},
   "outputs": [
    {
     "name": "stdout",
     "output_type": "stream",
     "text": [
      "There is a 95% chance that an initial investment of $60000 in the portfolio over the next 5 years will end within in the range of $52226.77 and $151063.79\n"
     ]
    }
   ],
   "source": [
    "# Set initial investment\n",
    "initial_investment_five = 60000\n",
    "# Use the lower and upper `95%` confidence intervals to calculate the range of the possible outcomes of our $60,000\n",
    "ci_lower_five = round(even_tbl_five[8]*60000,2)\n",
    "ci_upper_five = round(even_tbl_five[9]*60000,2)\n",
    "# Print results\n",
    "print(f\"There is a 95% chance that an initial investment of ${initial_investment_five} in the portfolio\"\n",
    "      f\" over the next 5 years will end within in the range of\"\n",
    "      f\" ${ci_lower_five} and ${ci_upper_five}\")"
   ]
  },
  {
   "cell_type": "markdown",
   "id": "661a3382-ff87-4084-b777-a0307e2184a9",
   "metadata": {},
   "source": [
    "# Ten Years Retirement Option"
   ]
  },
  {
   "cell_type": "code",
   "execution_count": 98,
   "id": "07480f98-5d43-4061-87ad-ec324b82c46c",
   "metadata": {},
   "outputs": [
    {
     "data": {
      "text/html": [
       "<div>\n",
       "<style scoped>\n",
       "    .dataframe tbody tr th:only-of-type {\n",
       "        vertical-align: middle;\n",
       "    }\n",
       "\n",
       "    .dataframe tbody tr th {\n",
       "        vertical-align: top;\n",
       "    }\n",
       "\n",
       "    .dataframe thead tr th {\n",
       "        text-align: left;\n",
       "    }\n",
       "\n",
       "    .dataframe thead tr:last-of-type th {\n",
       "        text-align: right;\n",
       "    }\n",
       "</style>\n",
       "<table border=\"1\" class=\"dataframe\">\n",
       "  <thead>\n",
       "    <tr>\n",
       "      <th></th>\n",
       "      <th colspan=\"6\" halign=\"left\">AGG</th>\n",
       "      <th colspan=\"6\" halign=\"left\">SPY</th>\n",
       "    </tr>\n",
       "    <tr>\n",
       "      <th></th>\n",
       "      <th>open</th>\n",
       "      <th>high</th>\n",
       "      <th>low</th>\n",
       "      <th>close</th>\n",
       "      <th>volume</th>\n",
       "      <th>daily_return</th>\n",
       "      <th>open</th>\n",
       "      <th>high</th>\n",
       "      <th>low</th>\n",
       "      <th>close</th>\n",
       "      <th>volume</th>\n",
       "      <th>daily_return</th>\n",
       "    </tr>\n",
       "    <tr>\n",
       "      <th>time</th>\n",
       "      <th></th>\n",
       "      <th></th>\n",
       "      <th></th>\n",
       "      <th></th>\n",
       "      <th></th>\n",
       "      <th></th>\n",
       "      <th></th>\n",
       "      <th></th>\n",
       "      <th></th>\n",
       "      <th></th>\n",
       "      <th></th>\n",
       "      <th></th>\n",
       "    </tr>\n",
       "  </thead>\n",
       "  <tbody>\n",
       "    <tr>\n",
       "      <th>2016-08-17 00:00:00-04:00</th>\n",
       "      <td>112.45</td>\n",
       "      <td>112.6600</td>\n",
       "      <td>112.3600</td>\n",
       "      <td>112.580</td>\n",
       "      <td>3136737.0</td>\n",
       "      <td>NaN</td>\n",
       "      <td>NaN</td>\n",
       "      <td>NaN</td>\n",
       "      <td>NaN</td>\n",
       "      <td>NaN</td>\n",
       "      <td>NaN</td>\n",
       "      <td>NaN</td>\n",
       "    </tr>\n",
       "    <tr>\n",
       "      <th>2016-08-18 00:00:00-04:00</th>\n",
       "      <td>112.64</td>\n",
       "      <td>112.7799</td>\n",
       "      <td>112.5350</td>\n",
       "      <td>112.705</td>\n",
       "      <td>1814107.0</td>\n",
       "      <td>0.001110</td>\n",
       "      <td>218.33</td>\n",
       "      <td>218.90</td>\n",
       "      <td>218.21</td>\n",
       "      <td>218.87</td>\n",
       "      <td>42850145.0</td>\n",
       "      <td>NaN</td>\n",
       "    </tr>\n",
       "    <tr>\n",
       "      <th>2016-08-19 00:00:00-04:00</th>\n",
       "      <td>112.53</td>\n",
       "      <td>112.6200</td>\n",
       "      <td>112.3900</td>\n",
       "      <td>112.490</td>\n",
       "      <td>2961016.0</td>\n",
       "      <td>-0.001908</td>\n",
       "      <td>218.31</td>\n",
       "      <td>218.75</td>\n",
       "      <td>217.74</td>\n",
       "      <td>218.57</td>\n",
       "      <td>52238224.0</td>\n",
       "      <td>-0.001371</td>\n",
       "    </tr>\n",
       "    <tr>\n",
       "      <th>2016-08-22 00:00:00-04:00</th>\n",
       "      <td>112.66</td>\n",
       "      <td>112.7380</td>\n",
       "      <td>112.5600</td>\n",
       "      <td>112.650</td>\n",
       "      <td>1647564.0</td>\n",
       "      <td>0.001422</td>\n",
       "      <td>218.27</td>\n",
       "      <td>218.80</td>\n",
       "      <td>217.83</td>\n",
       "      <td>218.50</td>\n",
       "      <td>48628907.0</td>\n",
       "      <td>-0.000320</td>\n",
       "    </tr>\n",
       "    <tr>\n",
       "      <th>2016-08-23 00:00:00-04:00</th>\n",
       "      <td>112.78</td>\n",
       "      <td>112.8250</td>\n",
       "      <td>112.6301</td>\n",
       "      <td>112.690</td>\n",
       "      <td>2197732.0</td>\n",
       "      <td>0.000355</td>\n",
       "      <td>219.25</td>\n",
       "      <td>219.60</td>\n",
       "      <td>218.90</td>\n",
       "      <td>218.94</td>\n",
       "      <td>41981207.0</td>\n",
       "      <td>0.002014</td>\n",
       "    </tr>\n",
       "  </tbody>\n",
       "</table>\n",
       "</div>"
      ],
      "text/plain": [
       "                              AGG                                          \\\n",
       "                             open      high       low    close     volume   \n",
       "time                                                                        \n",
       "2016-08-17 00:00:00-04:00  112.45  112.6600  112.3600  112.580  3136737.0   \n",
       "2016-08-18 00:00:00-04:00  112.64  112.7799  112.5350  112.705  1814107.0   \n",
       "2016-08-19 00:00:00-04:00  112.53  112.6200  112.3900  112.490  2961016.0   \n",
       "2016-08-22 00:00:00-04:00  112.66  112.7380  112.5600  112.650  1647564.0   \n",
       "2016-08-23 00:00:00-04:00  112.78  112.8250  112.6301  112.690  2197732.0   \n",
       "\n",
       "                                           SPY                          \\\n",
       "                          daily_return    open    high     low   close   \n",
       "time                                                                     \n",
       "2016-08-17 00:00:00-04:00          NaN     NaN     NaN     NaN     NaN   \n",
       "2016-08-18 00:00:00-04:00     0.001110  218.33  218.90  218.21  218.87   \n",
       "2016-08-19 00:00:00-04:00    -0.001908  218.31  218.75  217.74  218.57   \n",
       "2016-08-22 00:00:00-04:00     0.001422  218.27  218.80  217.83  218.50   \n",
       "2016-08-23 00:00:00-04:00     0.000355  219.25  219.60  218.90  218.94   \n",
       "\n",
       "                                                    \n",
       "                               volume daily_return  \n",
       "time                                                \n",
       "2016-08-17 00:00:00-04:00         NaN          NaN  \n",
       "2016-08-18 00:00:00-04:00  42850145.0          NaN  \n",
       "2016-08-19 00:00:00-04:00  52238224.0    -0.001371  \n",
       "2016-08-22 00:00:00-04:00  48628907.0    -0.000320  \n",
       "2016-08-23 00:00:00-04:00  41981207.0     0.002014  "
      ]
     },
     "execution_count": 98,
     "metadata": {},
     "output_type": "execute_result"
    }
   ],
   "source": [
    "# Configuring a Monte Carlo simulation to forecast 10 years cumulative returns\n",
    "MC_even_dist_ten = MCSimulation(portfolio_data = df_ticker, weights = [.40,.60], num_simulation = 500, num_trading_days = 252*10)\n",
    "MC_even_dist_ten.portfolio_data.head()"
   ]
  },
  {
   "cell_type": "code",
   "execution_count": 99,
   "id": "5655c5af-3ce7-4314-9c51-df1cf00139dd",
   "metadata": {},
   "outputs": [
    {
     "name": "stdout",
     "output_type": "stream",
     "text": [
      "Running Monte Carlo simulation number 0.\n",
      "Running Monte Carlo simulation number 10.\n",
      "Running Monte Carlo simulation number 20.\n",
      "Running Monte Carlo simulation number 30.\n",
      "Running Monte Carlo simulation number 40.\n",
      "Running Monte Carlo simulation number 50.\n",
      "Running Monte Carlo simulation number 60.\n",
      "Running Monte Carlo simulation number 70.\n",
      "Running Monte Carlo simulation number 80.\n",
      "Running Monte Carlo simulation number 90.\n",
      "Running Monte Carlo simulation number 100.\n"
     ]
    },
    {
     "name": "stderr",
     "output_type": "stream",
     "text": [
      "C:\\Users\\orkhan\\Desktop\\HW-4-API-updated-\\MCForecastTools.py:117: PerformanceWarning: DataFrame is highly fragmented.  This is usually the result of calling `frame.insert` many times, which has poor performance.  Consider joining all columns at once using pd.concat(axis=1) instead.  To get a de-fragmented frame, use `newframe = frame.copy()`\n",
      "  portfolio_cumulative_returns[n] = (1 + sim_df.fillna(0)).cumprod()\n"
     ]
    },
    {
     "name": "stdout",
     "output_type": "stream",
     "text": [
      "Running Monte Carlo simulation number 110.\n",
      "Running Monte Carlo simulation number 120.\n",
      "Running Monte Carlo simulation number 130.\n",
      "Running Monte Carlo simulation number 140.\n",
      "Running Monte Carlo simulation number 150.\n",
      "Running Monte Carlo simulation number 160.\n",
      "Running Monte Carlo simulation number 170.\n",
      "Running Monte Carlo simulation number 180.\n",
      "Running Monte Carlo simulation number 190.\n",
      "Running Monte Carlo simulation number 200.\n",
      "Running Monte Carlo simulation number 210.\n",
      "Running Monte Carlo simulation number 220.\n",
      "Running Monte Carlo simulation number 230.\n",
      "Running Monte Carlo simulation number 240.\n",
      "Running Monte Carlo simulation number 250.\n",
      "Running Monte Carlo simulation number 260.\n",
      "Running Monte Carlo simulation number 270.\n",
      "Running Monte Carlo simulation number 280.\n",
      "Running Monte Carlo simulation number 290.\n",
      "Running Monte Carlo simulation number 300.\n",
      "Running Monte Carlo simulation number 310.\n",
      "Running Monte Carlo simulation number 320.\n",
      "Running Monte Carlo simulation number 330.\n",
      "Running Monte Carlo simulation number 340.\n",
      "Running Monte Carlo simulation number 350.\n",
      "Running Monte Carlo simulation number 360.\n",
      "Running Monte Carlo simulation number 370.\n",
      "Running Monte Carlo simulation number 380.\n",
      "Running Monte Carlo simulation number 390.\n",
      "Running Monte Carlo simulation number 400.\n",
      "Running Monte Carlo simulation number 410.\n",
      "Running Monte Carlo simulation number 420.\n",
      "Running Monte Carlo simulation number 430.\n",
      "Running Monte Carlo simulation number 440.\n",
      "Running Monte Carlo simulation number 450.\n",
      "Running Monte Carlo simulation number 460.\n",
      "Running Monte Carlo simulation number 470.\n",
      "Running Monte Carlo simulation number 480.\n",
      "Running Monte Carlo simulation number 490.\n"
     ]
    },
    {
     "data": {
      "text/html": [
       "<div>\n",
       "<style scoped>\n",
       "    .dataframe tbody tr th:only-of-type {\n",
       "        vertical-align: middle;\n",
       "    }\n",
       "\n",
       "    .dataframe tbody tr th {\n",
       "        vertical-align: top;\n",
       "    }\n",
       "\n",
       "    .dataframe thead th {\n",
       "        text-align: right;\n",
       "    }\n",
       "</style>\n",
       "<table border=\"1\" class=\"dataframe\">\n",
       "  <thead>\n",
       "    <tr style=\"text-align: right;\">\n",
       "      <th></th>\n",
       "      <th>0</th>\n",
       "      <th>1</th>\n",
       "      <th>2</th>\n",
       "      <th>3</th>\n",
       "      <th>4</th>\n",
       "      <th>5</th>\n",
       "      <th>6</th>\n",
       "      <th>7</th>\n",
       "      <th>8</th>\n",
       "      <th>9</th>\n",
       "      <th>...</th>\n",
       "      <th>490</th>\n",
       "      <th>491</th>\n",
       "      <th>492</th>\n",
       "      <th>493</th>\n",
       "      <th>494</th>\n",
       "      <th>495</th>\n",
       "      <th>496</th>\n",
       "      <th>497</th>\n",
       "      <th>498</th>\n",
       "      <th>499</th>\n",
       "    </tr>\n",
       "  </thead>\n",
       "  <tbody>\n",
       "    <tr>\n",
       "      <th>0</th>\n",
       "      <td>1.000000</td>\n",
       "      <td>1.000000</td>\n",
       "      <td>1.000000</td>\n",
       "      <td>1.000000</td>\n",
       "      <td>1.000000</td>\n",
       "      <td>1.000000</td>\n",
       "      <td>1.000000</td>\n",
       "      <td>1.000000</td>\n",
       "      <td>1.000000</td>\n",
       "      <td>1.000000</td>\n",
       "      <td>...</td>\n",
       "      <td>1.000000</td>\n",
       "      <td>1.000000</td>\n",
       "      <td>1.000000</td>\n",
       "      <td>1.000000</td>\n",
       "      <td>1.000000</td>\n",
       "      <td>1.000000</td>\n",
       "      <td>1.000000</td>\n",
       "      <td>1.000000</td>\n",
       "      <td>1.000000</td>\n",
       "      <td>1.000000</td>\n",
       "    </tr>\n",
       "    <tr>\n",
       "      <th>1</th>\n",
       "      <td>1.015647</td>\n",
       "      <td>1.001203</td>\n",
       "      <td>0.991560</td>\n",
       "      <td>0.998942</td>\n",
       "      <td>0.994550</td>\n",
       "      <td>0.996090</td>\n",
       "      <td>1.004274</td>\n",
       "      <td>1.000487</td>\n",
       "      <td>0.997435</td>\n",
       "      <td>1.004876</td>\n",
       "      <td>...</td>\n",
       "      <td>1.005092</td>\n",
       "      <td>0.986976</td>\n",
       "      <td>1.002533</td>\n",
       "      <td>1.002839</td>\n",
       "      <td>0.999830</td>\n",
       "      <td>1.007414</td>\n",
       "      <td>0.990215</td>\n",
       "      <td>1.000066</td>\n",
       "      <td>1.000945</td>\n",
       "      <td>0.989531</td>\n",
       "    </tr>\n",
       "    <tr>\n",
       "      <th>2</th>\n",
       "      <td>1.023063</td>\n",
       "      <td>0.999583</td>\n",
       "      <td>1.002523</td>\n",
       "      <td>0.997276</td>\n",
       "      <td>1.003286</td>\n",
       "      <td>0.995575</td>\n",
       "      <td>0.996638</td>\n",
       "      <td>1.001962</td>\n",
       "      <td>1.000235</td>\n",
       "      <td>1.005298</td>\n",
       "      <td>...</td>\n",
       "      <td>1.006549</td>\n",
       "      <td>0.986509</td>\n",
       "      <td>1.007693</td>\n",
       "      <td>1.003251</td>\n",
       "      <td>1.004491</td>\n",
       "      <td>1.010241</td>\n",
       "      <td>0.998048</td>\n",
       "      <td>1.005952</td>\n",
       "      <td>0.998280</td>\n",
       "      <td>0.992216</td>\n",
       "    </tr>\n",
       "    <tr>\n",
       "      <th>3</th>\n",
       "      <td>1.027853</td>\n",
       "      <td>0.991506</td>\n",
       "      <td>1.010276</td>\n",
       "      <td>1.001113</td>\n",
       "      <td>1.011406</td>\n",
       "      <td>0.992621</td>\n",
       "      <td>0.988729</td>\n",
       "      <td>0.997420</td>\n",
       "      <td>0.998612</td>\n",
       "      <td>1.001847</td>\n",
       "      <td>...</td>\n",
       "      <td>1.016979</td>\n",
       "      <td>0.981751</td>\n",
       "      <td>1.017764</td>\n",
       "      <td>1.001013</td>\n",
       "      <td>0.988634</td>\n",
       "      <td>1.023027</td>\n",
       "      <td>1.009112</td>\n",
       "      <td>1.004290</td>\n",
       "      <td>0.992435</td>\n",
       "      <td>0.997926</td>\n",
       "    </tr>\n",
       "    <tr>\n",
       "      <th>4</th>\n",
       "      <td>1.024898</td>\n",
       "      <td>0.995117</td>\n",
       "      <td>1.012815</td>\n",
       "      <td>1.014540</td>\n",
       "      <td>1.012754</td>\n",
       "      <td>0.998849</td>\n",
       "      <td>0.992601</td>\n",
       "      <td>0.996034</td>\n",
       "      <td>1.000781</td>\n",
       "      <td>1.009624</td>\n",
       "      <td>...</td>\n",
       "      <td>1.021423</td>\n",
       "      <td>0.981496</td>\n",
       "      <td>1.001115</td>\n",
       "      <td>1.003038</td>\n",
       "      <td>0.985071</td>\n",
       "      <td>1.002264</td>\n",
       "      <td>1.017713</td>\n",
       "      <td>0.992656</td>\n",
       "      <td>0.994474</td>\n",
       "      <td>1.018177</td>\n",
       "    </tr>\n",
       "    <tr>\n",
       "      <th>...</th>\n",
       "      <td>...</td>\n",
       "      <td>...</td>\n",
       "      <td>...</td>\n",
       "      <td>...</td>\n",
       "      <td>...</td>\n",
       "      <td>...</td>\n",
       "      <td>...</td>\n",
       "      <td>...</td>\n",
       "      <td>...</td>\n",
       "      <td>...</td>\n",
       "      <td>...</td>\n",
       "      <td>...</td>\n",
       "      <td>...</td>\n",
       "      <td>...</td>\n",
       "      <td>...</td>\n",
       "      <td>...</td>\n",
       "      <td>...</td>\n",
       "      <td>...</td>\n",
       "      <td>...</td>\n",
       "      <td>...</td>\n",
       "      <td>...</td>\n",
       "    </tr>\n",
       "    <tr>\n",
       "      <th>2516</th>\n",
       "      <td>3.872843</td>\n",
       "      <td>2.193074</td>\n",
       "      <td>1.604334</td>\n",
       "      <td>1.891916</td>\n",
       "      <td>5.062336</td>\n",
       "      <td>1.405856</td>\n",
       "      <td>2.910986</td>\n",
       "      <td>2.093623</td>\n",
       "      <td>1.611597</td>\n",
       "      <td>2.933625</td>\n",
       "      <td>...</td>\n",
       "      <td>1.926016</td>\n",
       "      <td>1.405047</td>\n",
       "      <td>3.214223</td>\n",
       "      <td>1.829952</td>\n",
       "      <td>1.456895</td>\n",
       "      <td>2.374957</td>\n",
       "      <td>1.117687</td>\n",
       "      <td>3.445260</td>\n",
       "      <td>2.188460</td>\n",
       "      <td>3.700454</td>\n",
       "    </tr>\n",
       "    <tr>\n",
       "      <th>2517</th>\n",
       "      <td>3.929552</td>\n",
       "      <td>2.196219</td>\n",
       "      <td>1.596311</td>\n",
       "      <td>1.918310</td>\n",
       "      <td>5.067532</td>\n",
       "      <td>1.427950</td>\n",
       "      <td>2.914747</td>\n",
       "      <td>2.114493</td>\n",
       "      <td>1.620287</td>\n",
       "      <td>2.942370</td>\n",
       "      <td>...</td>\n",
       "      <td>1.897168</td>\n",
       "      <td>1.395353</td>\n",
       "      <td>3.190292</td>\n",
       "      <td>1.853494</td>\n",
       "      <td>1.436688</td>\n",
       "      <td>2.353096</td>\n",
       "      <td>1.126113</td>\n",
       "      <td>3.469111</td>\n",
       "      <td>2.189756</td>\n",
       "      <td>3.667656</td>\n",
       "    </tr>\n",
       "    <tr>\n",
       "      <th>2518</th>\n",
       "      <td>3.911914</td>\n",
       "      <td>2.223096</td>\n",
       "      <td>1.594090</td>\n",
       "      <td>1.917124</td>\n",
       "      <td>5.092664</td>\n",
       "      <td>1.418532</td>\n",
       "      <td>2.943447</td>\n",
       "      <td>2.099716</td>\n",
       "      <td>1.629141</td>\n",
       "      <td>2.956559</td>\n",
       "      <td>...</td>\n",
       "      <td>1.887929</td>\n",
       "      <td>1.396843</td>\n",
       "      <td>3.207662</td>\n",
       "      <td>1.827670</td>\n",
       "      <td>1.455847</td>\n",
       "      <td>2.341701</td>\n",
       "      <td>1.140202</td>\n",
       "      <td>3.437517</td>\n",
       "      <td>2.182470</td>\n",
       "      <td>3.674157</td>\n",
       "    </tr>\n",
       "    <tr>\n",
       "      <th>2519</th>\n",
       "      <td>3.917259</td>\n",
       "      <td>2.246849</td>\n",
       "      <td>1.591489</td>\n",
       "      <td>1.926625</td>\n",
       "      <td>5.104128</td>\n",
       "      <td>1.411383</td>\n",
       "      <td>2.968094</td>\n",
       "      <td>2.099675</td>\n",
       "      <td>1.636282</td>\n",
       "      <td>2.990001</td>\n",
       "      <td>...</td>\n",
       "      <td>1.899413</td>\n",
       "      <td>1.428213</td>\n",
       "      <td>3.228448</td>\n",
       "      <td>1.839249</td>\n",
       "      <td>1.463747</td>\n",
       "      <td>2.363662</td>\n",
       "      <td>1.151843</td>\n",
       "      <td>3.448787</td>\n",
       "      <td>2.199883</td>\n",
       "      <td>3.637588</td>\n",
       "    </tr>\n",
       "    <tr>\n",
       "      <th>2520</th>\n",
       "      <td>3.878845</td>\n",
       "      <td>2.220626</td>\n",
       "      <td>1.599169</td>\n",
       "      <td>1.925191</td>\n",
       "      <td>5.170890</td>\n",
       "      <td>1.413777</td>\n",
       "      <td>2.970696</td>\n",
       "      <td>2.077609</td>\n",
       "      <td>1.647521</td>\n",
       "      <td>2.967888</td>\n",
       "      <td>...</td>\n",
       "      <td>1.877001</td>\n",
       "      <td>1.426850</td>\n",
       "      <td>3.251963</td>\n",
       "      <td>1.837088</td>\n",
       "      <td>1.464278</td>\n",
       "      <td>2.403211</td>\n",
       "      <td>1.154111</td>\n",
       "      <td>3.448238</td>\n",
       "      <td>2.196527</td>\n",
       "      <td>3.647665</td>\n",
       "    </tr>\n",
       "  </tbody>\n",
       "</table>\n",
       "<p>2521 rows × 500 columns</p>\n",
       "</div>"
      ],
      "text/plain": [
       "           0         1         2         3         4         5         6    \\\n",
       "0     1.000000  1.000000  1.000000  1.000000  1.000000  1.000000  1.000000   \n",
       "1     1.015647  1.001203  0.991560  0.998942  0.994550  0.996090  1.004274   \n",
       "2     1.023063  0.999583  1.002523  0.997276  1.003286  0.995575  0.996638   \n",
       "3     1.027853  0.991506  1.010276  1.001113  1.011406  0.992621  0.988729   \n",
       "4     1.024898  0.995117  1.012815  1.014540  1.012754  0.998849  0.992601   \n",
       "...        ...       ...       ...       ...       ...       ...       ...   \n",
       "2516  3.872843  2.193074  1.604334  1.891916  5.062336  1.405856  2.910986   \n",
       "2517  3.929552  2.196219  1.596311  1.918310  5.067532  1.427950  2.914747   \n",
       "2518  3.911914  2.223096  1.594090  1.917124  5.092664  1.418532  2.943447   \n",
       "2519  3.917259  2.246849  1.591489  1.926625  5.104128  1.411383  2.968094   \n",
       "2520  3.878845  2.220626  1.599169  1.925191  5.170890  1.413777  2.970696   \n",
       "\n",
       "           7         8         9    ...       490       491       492  \\\n",
       "0     1.000000  1.000000  1.000000  ...  1.000000  1.000000  1.000000   \n",
       "1     1.000487  0.997435  1.004876  ...  1.005092  0.986976  1.002533   \n",
       "2     1.001962  1.000235  1.005298  ...  1.006549  0.986509  1.007693   \n",
       "3     0.997420  0.998612  1.001847  ...  1.016979  0.981751  1.017764   \n",
       "4     0.996034  1.000781  1.009624  ...  1.021423  0.981496  1.001115   \n",
       "...        ...       ...       ...  ...       ...       ...       ...   \n",
       "2516  2.093623  1.611597  2.933625  ...  1.926016  1.405047  3.214223   \n",
       "2517  2.114493  1.620287  2.942370  ...  1.897168  1.395353  3.190292   \n",
       "2518  2.099716  1.629141  2.956559  ...  1.887929  1.396843  3.207662   \n",
       "2519  2.099675  1.636282  2.990001  ...  1.899413  1.428213  3.228448   \n",
       "2520  2.077609  1.647521  2.967888  ...  1.877001  1.426850  3.251963   \n",
       "\n",
       "           493       494       495       496       497       498       499  \n",
       "0     1.000000  1.000000  1.000000  1.000000  1.000000  1.000000  1.000000  \n",
       "1     1.002839  0.999830  1.007414  0.990215  1.000066  1.000945  0.989531  \n",
       "2     1.003251  1.004491  1.010241  0.998048  1.005952  0.998280  0.992216  \n",
       "3     1.001013  0.988634  1.023027  1.009112  1.004290  0.992435  0.997926  \n",
       "4     1.003038  0.985071  1.002264  1.017713  0.992656  0.994474  1.018177  \n",
       "...        ...       ...       ...       ...       ...       ...       ...  \n",
       "2516  1.829952  1.456895  2.374957  1.117687  3.445260  2.188460  3.700454  \n",
       "2517  1.853494  1.436688  2.353096  1.126113  3.469111  2.189756  3.667656  \n",
       "2518  1.827670  1.455847  2.341701  1.140202  3.437517  2.182470  3.674157  \n",
       "2519  1.839249  1.463747  2.363662  1.151843  3.448787  2.199883  3.637588  \n",
       "2520  1.837088  1.464278  2.403211  1.154111  3.448238  2.196527  3.647665  \n",
       "\n",
       "[2521 rows x 500 columns]"
      ]
     },
     "execution_count": 99,
     "metadata": {},
     "output_type": "execute_result"
    }
   ],
   "source": [
    "# Running a Monte Carlo simulation to forecast 10 years cumulative returns\n",
    "MC_even_dist_ten.calc_cumulative_return()"
   ]
  },
  {
   "cell_type": "code",
   "execution_count": 100,
   "id": "7cfaaec5-15a9-4e5f-820a-fd4bbab4957d",
   "metadata": {},
   "outputs": [
    {
     "data": {
      "image/png": "[encoded data removed]",
      "text/plain": [
       "<Figure size 432x288 with 1 Axes>"
      ]
     },
     "metadata": {
      "needs_background": "light"
     },
     "output_type": "display_data"
    }
   ],
   "source": [
    "# Plot simulation outcomes\n",
    "line_plot_ten = MC_even_dist_ten.plot_simulation()"
   ]
  },
  {
   "cell_type": "code",
   "execution_count": 101,
   "id": "483aa37b-90a3-4dbd-9dbc-b31e00486f4f",
   "metadata": {},
   "outputs": [
    {
     "data": {
      "image/png": "[encoded data removed]",
      "text/plain": [
       "<Figure size 432x288 with 1 Axes>"
      ]
     },
     "metadata": {
      "needs_background": "light"
     },
     "output_type": "display_data"
    }
   ],
   "source": [
    "# Plot probability distribution and confidence intervals\n",
    "dist_plot_ten = MC_even_dist_ten.plot_distribution()"
   ]
  },
  {
   "cell_type": "code",
   "execution_count": 102,
   "id": "41a1aec8-b3cc-4477-9424-ee9471a3a5d1",
   "metadata": {},
   "outputs": [
    {
     "name": "stdout",
     "output_type": "stream",
     "text": [
      "count           500.000000\n",
      "mean              2.277454\n",
      "std               0.929831\n",
      "min               0.558602\n",
      "25%               1.622658\n",
      "50%               2.091873\n",
      "75%               2.705477\n",
      "max               7.112509\n",
      "95% CI Lower      0.999317\n",
      "95% CI Upper      4.848732\n",
      "Name: 2520, dtype: float64\n"
     ]
    }
   ],
   "source": [
    "# Fetch summary statistics from the Monte Carlo simulation results\n",
    "even_tbl_ten = MC_even_dist_ten.summarize_cumulative_return()\n",
    "# Print summary statistics\n",
    "print(even_tbl_ten)"
   ]
  },
  {
   "cell_type": "code",
   "execution_count": 103,
   "id": "febfae47-7082-42a7-96f1-3e95395c1303",
   "metadata": {},
   "outputs": [
    {
     "name": "stdout",
     "output_type": "stream",
     "text": [
      "There is a 95% chance that an initial investment of $60000 in the portfolio over the next 10 years will end within in the range of $59959.03 and $290923.9\n"
     ]
    }
   ],
   "source": [
    "# Set initial investment\n",
    "initial_investment_ten = 60000\n",
    "# Use the lower and upper `95%` confidence intervals to calculate the range of the possible outcomes of our $60,000\n",
    "ci_lower_ten = round(even_tbl_ten[8]*60000,2)\n",
    "ci_upper_ten = round(even_tbl_ten[9]*60000,2)\n",
    "# Print results\n",
    "print(f\"There is a 95% chance that an initial investment of ${initial_investment_ten} in the portfolio\"\n",
    "      f\" over the next 10 years will end within in the range of\"\n",
    "      f\" ${ci_lower_ten} and ${ci_upper_ten}\")"
   ]
  },
  {
   "cell_type": "code",
   "execution_count": null,
   "id": "c45eb171-8e07-4064-9150-36eccf9e521e",
   "metadata": {},
   "outputs": [],
   "source": []
  }
 ],
 "metadata": {
  "kernelspec": {
   "display_name": "Python 3 (ipykernel)",
   "language": "python",
   "name": "python3"
  },
  "language_info": {
   "codemirror_mode": {
    "name": "ipython",
    "version": 3
   },
   "file_extension": ".py",
   "mimetype": "text/x-python",
   "name": "python",
   "nbconvert_exporter": "python",
   "pygments_lexer": "ipython3",
   "version": "3.8.8"
  }
 },
 "nbformat": 4,
 "nbformat_minor": 5
}
